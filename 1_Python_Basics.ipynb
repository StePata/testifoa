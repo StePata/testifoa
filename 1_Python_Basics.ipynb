{
  "nbformat": 4,
  "nbformat_minor": 0,
  "metadata": {
    "colab": {
      "provenance": [],
      "authorship_tag": "ABX9TyNYTvkoDj0BJeeup3pkeG0n",
      "include_colab_link": true
    },
    "kernelspec": {
      "name": "python3",
      "display_name": "Python 3"
    },
    "language_info": {
      "name": "python"
    }
  },
  "cells": [
    {
      "cell_type": "markdown",
      "metadata": {
        "id": "view-in-github",
        "colab_type": "text"
      },
      "source": [
        "<a href=\"https://colab.research.google.com/github/StePata/testifoa/blob/main/1_Python_Basics.ipynb\" target=\"_parent\"><img src=\"https://colab.research.google.com/assets/colab-badge.svg\" alt=\"Open In Colab\"/></a>"
      ]
    },
    {
      "cell_type": "markdown",
      "source": [
        "#How to run a cell"
      ],
      "metadata": {
        "id": "xz7Rnhbd34Zt"
      }
    },
    {
      "cell_type": "code",
      "execution_count": 1,
      "metadata": {
        "colab": {
          "base_uri": "https://localhost:8080/",
          "height": 36
        },
        "id": "NrmPwAPp3ucK",
        "outputId": "5e518775-7e8a-4cb7-f4dc-23608f7d6b62"
      },
      "outputs": [
        {
          "output_type": "execute_result",
          "data": {
            "text/plain": [
              "'This is a coding cell'"
            ],
            "application/vnd.google.colaboratory.intrinsic+json": {
              "type": "string"
            }
          },
          "metadata": {},
          "execution_count": 1
        }
      ],
      "source": [
        "\"This is a coding cell\""
      ]
    },
    {
      "cell_type": "code",
      "source": [
        "2 + 2"
      ],
      "metadata": {
        "colab": {
          "base_uri": "https://localhost:8080/"
        },
        "id": "B5i26szw3vp9",
        "outputId": "202c3e29-796a-4797-e7db-745098ce0343"
      },
      "execution_count": 2,
      "outputs": [
        {
          "output_type": "execute_result",
          "data": {
            "text/plain": [
              "4"
            ]
          },
          "metadata": {},
          "execution_count": 2
        }
      ]
    },
    {
      "cell_type": "code",
      "source": [
        "3 + 3"
      ],
      "metadata": {
        "colab": {
          "base_uri": "https://localhost:8080/"
        },
        "id": "NhFwuCPj39vZ",
        "outputId": "e625d8d8-5c11-4b69-bdb9-d2c44d5802f0"
      },
      "execution_count": 3,
      "outputs": [
        {
          "output_type": "execute_result",
          "data": {
            "text/plain": [
              "6"
            ]
          },
          "metadata": {},
          "execution_count": 3
        }
      ]
    },
    {
      "cell_type": "markdown",
      "source": [
        "#Python basics"
      ],
      "metadata": {
        "id": "Ykevqkv24C-V"
      }
    },
    {
      "cell_type": "code",
      "source": [
        "2 + 2\n",
        "3 * 3\n",
        "# Python pubblicherà il risultato solo dell'ultima riga, a meno che non\n",
        "# facciamo print"
      ],
      "metadata": {
        "colab": {
          "base_uri": "https://localhost:8080/"
        },
        "id": "EROdjmCe4Biy",
        "outputId": "08120260-4b11-451e-dfb9-d221dcde9bf8"
      },
      "execution_count": 4,
      "outputs": [
        {
          "output_type": "execute_result",
          "data": {
            "text/plain": [
              "9"
            ]
          },
          "metadata": {},
          "execution_count": 4
        }
      ]
    },
    {
      "cell_type": "code",
      "source": [
        "print(2 + 2)\n",
        "print(3 * 3)"
      ],
      "metadata": {
        "colab": {
          "base_uri": "https://localhost:8080/"
        },
        "id": "jAMFZSor4GfR",
        "outputId": "213aa995-6dd7-4abf-9f98-6cb29ebe6bbb"
      },
      "execution_count": 5,
      "outputs": [
        {
          "output_type": "stream",
          "name": "stdout",
          "text": [
            "4\n",
            "9\n"
          ]
        }
      ]
    },
    {
      "cell_type": "code",
      "source": [
        "# This is a comment"
      ],
      "metadata": {
        "id": "99LIG-um4PWG"
      },
      "execution_count": 6,
      "outputs": []
    },
    {
      "cell_type": "markdown",
      "source": [
        "#Markdown basics"
      ],
      "metadata": {
        "id": "MomTqyuAJM5I"
      }
    },
    {
      "cell_type": "markdown",
      "source": [
        "| Element        | Markdown Syntax                        |\n",
        "|----------------|----------------------------------------|\n",
        "| Heading        | `# H1`<br>`## H2`<br>`### H3`          |\n",
        "| Bold           | `**bold text**`                        |\n",
        "| Italic         | `*italicized text*`                    |\n",
        "| Blockquote     | `> blockquote`                         |\n",
        "| Ordered List   | `1. First item`<br>`2. Second item`<br>`3. Third item` |\n",
        "| Unordered List | `- First item`<br>`- Second item`<br>`- Third item`   |\n",
        "| Code           | `` `code` ``                           |\n",
        "| Horizontal Rule| `---`                                  |\n",
        "| Link           | `[title](https://www.example.com)`     |\n",
        "| Image          | `![alt text](image.jpg)`               |\n",
        "\n",
        "[Here is a more info on Markdown](https://www.markdownguide.org/basic-syntax/)"
      ],
      "metadata": {
        "id": "K-hsrFYP43vA"
      }
    },
    {
      "cell_type": "markdown",
      "source": [
        "This is normal text\n",
        "\n",
        "# Heading\n",
        "\n",
        "** Boldd **\n",
        "\n",
        "1. One\n",
        "2. Two\n",
        "3. Three"
      ],
      "metadata": {
        "id": "W3IUf2TI48eZ"
      }
    },
    {
      "cell_type": "markdown",
      "source": [
        "## Colab Walkthrough\n",
        "\n",
        "#### Sidebar Menu (Left-Top)\n",
        "- Table of Contents\n",
        "- Find and Replace\n",
        "- Variables\n",
        "- Secrets\n",
        "- Files\n",
        "\n",
        "#### Sidebar Menu (Left-Bottom)\n",
        "- Code snippets\n",
        "- Command pallette\n",
        "- Terminal\n",
        "\n",
        "#### Top Menu Bar\n",
        "- Runtime: Controls running cells and restarting notebook\n",
        "\n",
        "#### Colab Header (Top)\n",
        "- RAM & Disk Usage\n",
        "- Colab AI (may or may not have)"
      ],
      "metadata": {
        "id": "WEEmXdgaJiyA"
      }
    },
    {
      "cell_type": "code",
      "source": [
        "!ls"
      ],
      "metadata": {
        "colab": {
          "base_uri": "https://localhost:8080/"
        },
        "id": "2tLlCBX-40O1",
        "outputId": "9ef81a56-710f-4c27-ab95-c8c06bc5ddba"
      },
      "execution_count": 7,
      "outputs": [
        {
          "output_type": "stream",
          "name": "stdout",
          "text": [
            "sample_data\n"
          ]
        }
      ]
    },
    {
      "cell_type": "code",
      "source": [
        "%timeit [i**2 for i in range (1000)]"
      ],
      "metadata": {
        "colab": {
          "base_uri": "https://localhost:8080/"
        },
        "id": "kI93KbCYKKwX",
        "outputId": "562c39fa-0797-4a73-84ff-81213172adb3"
      },
      "execution_count": 8,
      "outputs": [
        {
          "output_type": "stream",
          "name": "stdout",
          "text": [
            "40 µs ± 716 ns per loop (mean ± std. dev. of 7 runs, 10000 loops each)\n"
          ]
        }
      ]
    },
    {
      "cell_type": "code",
      "source": [
        "%%timeit\n",
        "L = []\n",
        "for n in range(1000):\n",
        "    L.append(n**2)\n"
      ],
      "metadata": {
        "colab": {
          "base_uri": "https://localhost:8080/"
        },
        "id": "MxWVfhpcKUHG",
        "outputId": "a498f217-6985-435d-8eae-10f1563ba60e"
      },
      "execution_count": 10,
      "outputs": [
        {
          "output_type": "stream",
          "name": "stdout",
          "text": [
            "45.4 µs ± 1.93 µs per loop (mean ± std. dev. of 7 runs, 10000 loops each)\n"
          ]
        }
      ]
    },
    {
      "cell_type": "markdown",
      "source": [
        "#Create a variable"
      ],
      "metadata": {
        "id": "fGnS-q2qKzib"
      }
    },
    {
      "cell_type": "code",
      "source": [
        "salary = 100000"
      ],
      "metadata": {
        "id": "y6tm339kK3J6"
      },
      "execution_count": 12,
      "outputs": []
    },
    {
      "cell_type": "code",
      "source": [
        "salary"
      ],
      "metadata": {
        "colab": {
          "base_uri": "https://localhost:8080/"
        },
        "id": "wGs9AukeK5G3",
        "outputId": "ce8b640e-b64f-4724-bd61-2f554e42f8ff"
      },
      "execution_count": 13,
      "outputs": [
        {
          "output_type": "execute_result",
          "data": {
            "text/plain": [
              "100000"
            ]
          },
          "metadata": {},
          "execution_count": 13
        }
      ]
    },
    {
      "cell_type": "code",
      "source": [
        "\"salary\""
      ],
      "metadata": {
        "colab": {
          "base_uri": "https://localhost:8080/",
          "height": 36
        },
        "id": "TEWNOISrK8JQ",
        "outputId": "2361f79a-bf59-4e88-f3fc-2c2fcaf2fc5b"
      },
      "execution_count": 14,
      "outputs": [
        {
          "output_type": "execute_result",
          "data": {
            "text/plain": [
              "'salary'"
            ],
            "application/vnd.google.colaboratory.intrinsic+json": {
              "type": "string"
            }
          },
          "metadata": {},
          "execution_count": 14
        }
      ]
    },
    {
      "cell_type": "markdown",
      "source": [
        "# Calculate the following"
      ],
      "metadata": {
        "id": "2rgCoggSLAt5"
      }
    },
    {
      "cell_type": "markdown",
      "source": [
        "Total salary = (Base salary * (1 +bonus rate)"
      ],
      "metadata": {
        "id": "5uqPVPYnLF7P"
      }
    },
    {
      "cell_type": "code",
      "source": [
        "base_salary = 100000\n",
        "bonus_rate = 0.10"
      ],
      "metadata": {
        "id": "X-33KcR1K-Uk"
      },
      "execution_count": 15,
      "outputs": []
    },
    {
      "cell_type": "code",
      "source": [
        "total_salary = (base_salary) * (1 + bonus_rate)"
      ],
      "metadata": {
        "id": "M_0_z0XALKrX"
      },
      "execution_count": 19,
      "outputs": []
    },
    {
      "cell_type": "code",
      "source": [
        "total_salary"
      ],
      "metadata": {
        "colab": {
          "base_uri": "https://localhost:8080/"
        },
        "id": "ah_tLBYFLODJ",
        "outputId": "cadfeaa0-b508-4d34-bc59-0f4f1158e25f"
      },
      "execution_count": 20,
      "outputs": [
        {
          "output_type": "execute_result",
          "data": {
            "text/plain": [
              "110000.00000000001"
            ]
          },
          "metadata": {},
          "execution_count": 20
        }
      ]
    },
    {
      "cell_type": "code",
      "source": [
        "pata_salary = 100000"
      ],
      "metadata": {
        "id": "gRV_USZoLUP2"
      },
      "execution_count": 21,
      "outputs": []
    },
    {
      "cell_type": "markdown",
      "source": [
        "# Variables aren't only numbers\n",
        "Notes\n",
        "We can store all different kinds of data in variables\n",
        "Note: We'll cover more on types in a bit\n",
        "## Example\n",
        "Create variables to store the following information about a job posting:\n",
        "\n",
        "\n",
        "*   Job ID (integer)\n",
        "*   Company Name (string)\n",
        "\n",
        "\n",
        "\n",
        "\n",
        "*   Salary Rate (string, but consider how you might store this as a numerical type for calculations)\n",
        "*   Job Work From Home (boolean)\n",
        "\n",
        "\n"
      ],
      "metadata": {
        "id": "zNIMS3l-MH2g"
      }
    },
    {
      "cell_type": "code",
      "source": [
        "company_name = 'DataWiz Inc.'"
      ],
      "metadata": {
        "id": "xNhMUJ4oMCWg"
      },
      "execution_count": 23,
      "outputs": []
    },
    {
      "cell_type": "code",
      "source": [
        "company_name"
      ],
      "metadata": {
        "colab": {
          "base_uri": "https://localhost:8080/",
          "height": 36
        },
        "id": "AcLOHJgWMVDm",
        "outputId": "9ef4c1c8-2e6a-4b82-b2e4-0bc9bd341e01"
      },
      "execution_count": 24,
      "outputs": [
        {
          "output_type": "execute_result",
          "data": {
            "text/plain": [
              "'DataWiz Inc.'"
            ],
            "application/vnd.google.colaboratory.intrinsic+json": {
              "type": "string"
            }
          },
          "metadata": {},
          "execution_count": 24
        }
      ]
    },
    {
      "cell_type": "code",
      "source": [
        "job_wfh = True"
      ],
      "metadata": {
        "id": "uZ5KYcI6MVyD"
      },
      "execution_count": 25,
      "outputs": []
    },
    {
      "cell_type": "code",
      "source": [
        "job_wfh"
      ],
      "metadata": {
        "colab": {
          "base_uri": "https://localhost:8080/"
        },
        "id": "bMRzngdxMYwA",
        "outputId": "3962fe16-3aea-42c2-d6b6-8ce1fdbd6f31"
      },
      "execution_count": 26,
      "outputs": [
        {
          "output_type": "execute_result",
          "data": {
            "text/plain": [
              "True"
            ]
          },
          "metadata": {},
          "execution_count": 26
        }
      ]
    },
    {
      "cell_type": "code",
      "source": [
        "job_id = 101\n",
        "job_title = 'Data Analysis'\n",
        "job_salary = 125000"
      ],
      "metadata": {
        "id": "4tXq9RqCMaDE"
      },
      "execution_count": 27,
      "outputs": []
    },
    {
      "cell_type": "code",
      "source": [
        "# This won't print out the variable name.\n",
        "print(\"Job ID:      \", job_id)\n",
        "print(\"Company Name:\", company_name)\n",
        "print(\"Job Title:   \", job_title)\n",
        "print(\"Salary:      \", job_salary)\n",
        "print(\"WFH:         \", job_wfh)"
      ],
      "metadata": {
        "colab": {
          "base_uri": "https://localhost:8080/"
        },
        "id": "K92jhh2fMgTe",
        "outputId": "0121e4bd-b9aa-466c-c7fc-7f93393fdc20"
      },
      "execution_count": 29,
      "outputs": [
        {
          "output_type": "stream",
          "name": "stdout",
          "text": [
            "Job ID:       101\n",
            "Company Name: DataWiz Inc.\n",
            "Job Title:    Data Analysis\n",
            "Salary:       125000\n",
            "WFH:          True\n"
          ]
        }
      ]
    },
    {
      "cell_type": "markdown",
      "source": [
        "# Objects: Data records\n",
        "## Object: A data record with fields, an istance of a class"
      ],
      "metadata": {
        "id": "sTfzCovyNKCH"
      }
    },
    {
      "cell_type": "code",
      "source": [
        "salary"
      ],
      "metadata": {
        "colab": {
          "base_uri": "https://localhost:8080/"
        },
        "id": "XyCBDXssMy4F",
        "outputId": "d387adb8-8e22-4d5c-fa66-57035ddc8641"
      },
      "execution_count": 30,
      "outputs": [
        {
          "output_type": "execute_result",
          "data": {
            "text/plain": [
              "100000"
            ]
          },
          "metadata": {},
          "execution_count": 30
        }
      ]
    },
    {
      "cell_type": "code",
      "source": [
        "100000"
      ],
      "metadata": {
        "colab": {
          "base_uri": "https://localhost:8080/"
        },
        "id": "Y4MeZGv8NTCm",
        "outputId": "0d6306a3-4fb5-4d52-b022-356b3b1393c3"
      },
      "execution_count": 31,
      "outputs": [
        {
          "output_type": "execute_result",
          "data": {
            "text/plain": [
              "100000"
            ]
          },
          "metadata": {},
          "execution_count": 31
        }
      ]
    },
    {
      "cell_type": "code",
      "source": [
        "print(salary)"
      ],
      "metadata": {
        "colab": {
          "base_uri": "https://localhost:8080/"
        },
        "id": "N5MspQzTNUK9",
        "outputId": "e59ee96a-0897-4062-a55f-1217b71d72af"
      },
      "execution_count": 32,
      "outputs": [
        {
          "output_type": "stream",
          "name": "stdout",
          "text": [
            "100000\n"
          ]
        }
      ]
    },
    {
      "cell_type": "code",
      "source": [
        "type(10000)"
      ],
      "metadata": {
        "colab": {
          "base_uri": "https://localhost:8080/"
        },
        "id": "su0IZGIcNWvT",
        "outputId": "62d3e449-21b8-4bae-fee7-83552c03a9fc"
      },
      "execution_count": 33,
      "outputs": [
        {
          "output_type": "execute_result",
          "data": {
            "text/plain": [
              "int"
            ]
          },
          "metadata": {},
          "execution_count": 33
        }
      ]
    },
    {
      "cell_type": "code",
      "source": [
        "\"Data analyst\""
      ],
      "metadata": {
        "colab": {
          "base_uri": "https://localhost:8080/",
          "height": 36
        },
        "id": "Bl0IfYyRNdbe",
        "outputId": "808e3747-8305-4503-d848-ff2cd9e3a55f"
      },
      "execution_count": 34,
      "outputs": [
        {
          "output_type": "execute_result",
          "data": {
            "text/plain": [
              "'Data analyst'"
            ],
            "application/vnd.google.colaboratory.intrinsic+json": {
              "type": "string"
            }
          },
          "metadata": {},
          "execution_count": 34
        }
      ]
    },
    {
      "cell_type": "code",
      "source": [
        "type(\"Data analyst\")"
      ],
      "metadata": {
        "colab": {
          "base_uri": "https://localhost:8080/"
        },
        "id": "I1iAlWKFNiEo",
        "outputId": "e23afde4-909d-48eb-fa79-9ba5bae22173"
      },
      "execution_count": 35,
      "outputs": [
        {
          "output_type": "execute_result",
          "data": {
            "text/plain": [
              "str"
            ]
          },
          "metadata": {},
          "execution_count": 35
        }
      ]
    },
    {
      "cell_type": "code",
      "source": [
        "help(str)"
      ],
      "metadata": {
        "colab": {
          "base_uri": "https://localhost:8080/"
        },
        "id": "A5h-g0zWNkPQ",
        "outputId": "e3936ace-0a07-472f-97e4-d3780472609c"
      },
      "execution_count": 36,
      "outputs": [
        {
          "output_type": "stream",
          "name": "stdout",
          "text": [
            "Help on class str in module builtins:\n",
            "\n",
            "class str(object)\n",
            " |  str(object='') -> str\n",
            " |  str(bytes_or_buffer[, encoding[, errors]]) -> str\n",
            " |\n",
            " |  Create a new string object from the given object. If encoding or\n",
            " |  errors is specified, then the object must expose a data buffer\n",
            " |  that will be decoded using the given encoding and error handler.\n",
            " |  Otherwise, returns the result of object.__str__() (if defined)\n",
            " |  or repr(object).\n",
            " |  encoding defaults to sys.getdefaultencoding().\n",
            " |  errors defaults to 'strict'.\n",
            " |\n",
            " |  Methods defined here:\n",
            " |\n",
            " |  __add__(self, value, /)\n",
            " |      Return self+value.\n",
            " |\n",
            " |  __contains__(self, key, /)\n",
            " |      Return bool(key in self).\n",
            " |\n",
            " |  __eq__(self, value, /)\n",
            " |      Return self==value.\n",
            " |\n",
            " |  __format__(self, format_spec, /)\n",
            " |      Return a formatted version of the string as described by format_spec.\n",
            " |\n",
            " |  __ge__(self, value, /)\n",
            " |      Return self>=value.\n",
            " |\n",
            " |  __getitem__(self, key, /)\n",
            " |      Return self[key].\n",
            " |\n",
            " |  __getnewargs__(...)\n",
            " |\n",
            " |  __gt__(self, value, /)\n",
            " |      Return self>value.\n",
            " |\n",
            " |  __hash__(self, /)\n",
            " |      Return hash(self).\n",
            " |\n",
            " |  __iter__(self, /)\n",
            " |      Implement iter(self).\n",
            " |\n",
            " |  __le__(self, value, /)\n",
            " |      Return self<=value.\n",
            " |\n",
            " |  __len__(self, /)\n",
            " |      Return len(self).\n",
            " |\n",
            " |  __lt__(self, value, /)\n",
            " |      Return self<value.\n",
            " |\n",
            " |  __mod__(self, value, /)\n",
            " |      Return self%value.\n",
            " |\n",
            " |  __mul__(self, value, /)\n",
            " |      Return self*value.\n",
            " |\n",
            " |  __ne__(self, value, /)\n",
            " |      Return self!=value.\n",
            " |\n",
            " |  __repr__(self, /)\n",
            " |      Return repr(self).\n",
            " |\n",
            " |  __rmod__(self, value, /)\n",
            " |      Return value%self.\n",
            " |\n",
            " |  __rmul__(self, value, /)\n",
            " |      Return value*self.\n",
            " |\n",
            " |  __sizeof__(self, /)\n",
            " |      Return the size of the string in memory, in bytes.\n",
            " |\n",
            " |  __str__(self, /)\n",
            " |      Return str(self).\n",
            " |\n",
            " |  capitalize(self, /)\n",
            " |      Return a capitalized version of the string.\n",
            " |\n",
            " |      More specifically, make the first character have upper case and the rest lower\n",
            " |      case.\n",
            " |\n",
            " |  casefold(self, /)\n",
            " |      Return a version of the string suitable for caseless comparisons.\n",
            " |\n",
            " |  center(self, width, fillchar=' ', /)\n",
            " |      Return a centered string of length width.\n",
            " |\n",
            " |      Padding is done using the specified fill character (default is a space).\n",
            " |\n",
            " |  count(...)\n",
            " |      S.count(sub[, start[, end]]) -> int\n",
            " |\n",
            " |      Return the number of non-overlapping occurrences of substring sub in\n",
            " |      string S[start:end].  Optional arguments start and end are\n",
            " |      interpreted as in slice notation.\n",
            " |\n",
            " |  encode(self, /, encoding='utf-8', errors='strict')\n",
            " |      Encode the string using the codec registered for encoding.\n",
            " |\n",
            " |      encoding\n",
            " |        The encoding in which to encode the string.\n",
            " |      errors\n",
            " |        The error handling scheme to use for encoding errors.\n",
            " |        The default is 'strict' meaning that encoding errors raise a\n",
            " |        UnicodeEncodeError.  Other possible values are 'ignore', 'replace' and\n",
            " |        'xmlcharrefreplace' as well as any other name registered with\n",
            " |        codecs.register_error that can handle UnicodeEncodeErrors.\n",
            " |\n",
            " |  endswith(...)\n",
            " |      S.endswith(suffix[, start[, end]]) -> bool\n",
            " |\n",
            " |      Return True if S ends with the specified suffix, False otherwise.\n",
            " |      With optional start, test S beginning at that position.\n",
            " |      With optional end, stop comparing S at that position.\n",
            " |      suffix can also be a tuple of strings to try.\n",
            " |\n",
            " |  expandtabs(self, /, tabsize=8)\n",
            " |      Return a copy where all tab characters are expanded using spaces.\n",
            " |\n",
            " |      If tabsize is not given, a tab size of 8 characters is assumed.\n",
            " |\n",
            " |  find(...)\n",
            " |      S.find(sub[, start[, end]]) -> int\n",
            " |\n",
            " |      Return the lowest index in S where substring sub is found,\n",
            " |      such that sub is contained within S[start:end].  Optional\n",
            " |      arguments start and end are interpreted as in slice notation.\n",
            " |\n",
            " |      Return -1 on failure.\n",
            " |\n",
            " |  format(...)\n",
            " |      S.format(*args, **kwargs) -> str\n",
            " |\n",
            " |      Return a formatted version of S, using substitutions from args and kwargs.\n",
            " |      The substitutions are identified by braces ('{' and '}').\n",
            " |\n",
            " |  format_map(...)\n",
            " |      S.format_map(mapping) -> str\n",
            " |\n",
            " |      Return a formatted version of S, using substitutions from mapping.\n",
            " |      The substitutions are identified by braces ('{' and '}').\n",
            " |\n",
            " |  index(...)\n",
            " |      S.index(sub[, start[, end]]) -> int\n",
            " |\n",
            " |      Return the lowest index in S where substring sub is found,\n",
            " |      such that sub is contained within S[start:end].  Optional\n",
            " |      arguments start and end are interpreted as in slice notation.\n",
            " |\n",
            " |      Raises ValueError when the substring is not found.\n",
            " |\n",
            " |  isalnum(self, /)\n",
            " |      Return True if the string is an alpha-numeric string, False otherwise.\n",
            " |\n",
            " |      A string is alpha-numeric if all characters in the string are alpha-numeric and\n",
            " |      there is at least one character in the string.\n",
            " |\n",
            " |  isalpha(self, /)\n",
            " |      Return True if the string is an alphabetic string, False otherwise.\n",
            " |\n",
            " |      A string is alphabetic if all characters in the string are alphabetic and there\n",
            " |      is at least one character in the string.\n",
            " |\n",
            " |  isascii(self, /)\n",
            " |      Return True if all characters in the string are ASCII, False otherwise.\n",
            " |\n",
            " |      ASCII characters have code points in the range U+0000-U+007F.\n",
            " |      Empty string is ASCII too.\n",
            " |\n",
            " |  isdecimal(self, /)\n",
            " |      Return True if the string is a decimal string, False otherwise.\n",
            " |\n",
            " |      A string is a decimal string if all characters in the string are decimal and\n",
            " |      there is at least one character in the string.\n",
            " |\n",
            " |  isdigit(self, /)\n",
            " |      Return True if the string is a digit string, False otherwise.\n",
            " |\n",
            " |      A string is a digit string if all characters in the string are digits and there\n",
            " |      is at least one character in the string.\n",
            " |\n",
            " |  isidentifier(self, /)\n",
            " |      Return True if the string is a valid Python identifier, False otherwise.\n",
            " |\n",
            " |      Call keyword.iskeyword(s) to test whether string s is a reserved identifier,\n",
            " |      such as \"def\" or \"class\".\n",
            " |\n",
            " |  islower(self, /)\n",
            " |      Return True if the string is a lowercase string, False otherwise.\n",
            " |\n",
            " |      A string is lowercase if all cased characters in the string are lowercase and\n",
            " |      there is at least one cased character in the string.\n",
            " |\n",
            " |  isnumeric(self, /)\n",
            " |      Return True if the string is a numeric string, False otherwise.\n",
            " |\n",
            " |      A string is numeric if all characters in the string are numeric and there is at\n",
            " |      least one character in the string.\n",
            " |\n",
            " |  isprintable(self, /)\n",
            " |      Return True if all characters in the string are printable, False otherwise.\n",
            " |\n",
            " |      A character is printable if repr() may use it in its output.\n",
            " |\n",
            " |  isspace(self, /)\n",
            " |      Return True if the string is a whitespace string, False otherwise.\n",
            " |\n",
            " |      A string is whitespace if all characters in the string are whitespace and there\n",
            " |      is at least one character in the string.\n",
            " |\n",
            " |  istitle(self, /)\n",
            " |      Return True if the string is a title-cased string, False otherwise.\n",
            " |\n",
            " |      In a title-cased string, upper- and title-case characters may only\n",
            " |      follow uncased characters and lowercase characters only cased ones.\n",
            " |\n",
            " |  isupper(self, /)\n",
            " |      Return True if the string is an uppercase string, False otherwise.\n",
            " |\n",
            " |      A string is uppercase if all cased characters in the string are uppercase and\n",
            " |      there is at least one cased character in the string.\n",
            " |\n",
            " |  join(self, iterable, /)\n",
            " |      Concatenate any number of strings.\n",
            " |\n",
            " |      The string whose method is called is inserted in between each given string.\n",
            " |      The result is returned as a new string.\n",
            " |\n",
            " |      Example: '.'.join(['ab', 'pq', 'rs']) -> 'ab.pq.rs'\n",
            " |\n",
            " |  ljust(self, width, fillchar=' ', /)\n",
            " |      Return a left-justified string of length width.\n",
            " |\n",
            " |      Padding is done using the specified fill character (default is a space).\n",
            " |\n",
            " |  lower(self, /)\n",
            " |      Return a copy of the string converted to lowercase.\n",
            " |\n",
            " |  lstrip(self, chars=None, /)\n",
            " |      Return a copy of the string with leading whitespace removed.\n",
            " |\n",
            " |      If chars is given and not None, remove characters in chars instead.\n",
            " |\n",
            " |  partition(self, sep, /)\n",
            " |      Partition the string into three parts using the given separator.\n",
            " |\n",
            " |      This will search for the separator in the string.  If the separator is found,\n",
            " |      returns a 3-tuple containing the part before the separator, the separator\n",
            " |      itself, and the part after it.\n",
            " |\n",
            " |      If the separator is not found, returns a 3-tuple containing the original string\n",
            " |      and two empty strings.\n",
            " |\n",
            " |  removeprefix(self, prefix, /)\n",
            " |      Return a str with the given prefix string removed if present.\n",
            " |\n",
            " |      If the string starts with the prefix string, return string[len(prefix):].\n",
            " |      Otherwise, return a copy of the original string.\n",
            " |\n",
            " |  removesuffix(self, suffix, /)\n",
            " |      Return a str with the given suffix string removed if present.\n",
            " |\n",
            " |      If the string ends with the suffix string and that suffix is not empty,\n",
            " |      return string[:-len(suffix)]. Otherwise, return a copy of the original\n",
            " |      string.\n",
            " |\n",
            " |  replace(self, old, new, count=-1, /)\n",
            " |      Return a copy with all occurrences of substring old replaced by new.\n",
            " |\n",
            " |        count\n",
            " |          Maximum number of occurrences to replace.\n",
            " |          -1 (the default value) means replace all occurrences.\n",
            " |\n",
            " |      If the optional argument count is given, only the first count occurrences are\n",
            " |      replaced.\n",
            " |\n",
            " |  rfind(...)\n",
            " |      S.rfind(sub[, start[, end]]) -> int\n",
            " |\n",
            " |      Return the highest index in S where substring sub is found,\n",
            " |      such that sub is contained within S[start:end].  Optional\n",
            " |      arguments start and end are interpreted as in slice notation.\n",
            " |\n",
            " |      Return -1 on failure.\n",
            " |\n",
            " |  rindex(...)\n",
            " |      S.rindex(sub[, start[, end]]) -> int\n",
            " |\n",
            " |      Return the highest index in S where substring sub is found,\n",
            " |      such that sub is contained within S[start:end].  Optional\n",
            " |      arguments start and end are interpreted as in slice notation.\n",
            " |\n",
            " |      Raises ValueError when the substring is not found.\n",
            " |\n",
            " |  rjust(self, width, fillchar=' ', /)\n",
            " |      Return a right-justified string of length width.\n",
            " |\n",
            " |      Padding is done using the specified fill character (default is a space).\n",
            " |\n",
            " |  rpartition(self, sep, /)\n",
            " |      Partition the string into three parts using the given separator.\n",
            " |\n",
            " |      This will search for the separator in the string, starting at the end. If\n",
            " |      the separator is found, returns a 3-tuple containing the part before the\n",
            " |      separator, the separator itself, and the part after it.\n",
            " |\n",
            " |      If the separator is not found, returns a 3-tuple containing two empty strings\n",
            " |      and the original string.\n",
            " |\n",
            " |  rsplit(self, /, sep=None, maxsplit=-1)\n",
            " |      Return a list of the substrings in the string, using sep as the separator string.\n",
            " |\n",
            " |        sep\n",
            " |          The separator used to split the string.\n",
            " |\n",
            " |          When set to None (the default value), will split on any whitespace\n",
            " |          character (including \\n \\r \\t \\f and spaces) and will discard\n",
            " |          empty strings from the result.\n",
            " |        maxsplit\n",
            " |          Maximum number of splits.\n",
            " |          -1 (the default value) means no limit.\n",
            " |\n",
            " |      Splitting starts at the end of the string and works to the front.\n",
            " |\n",
            " |  rstrip(self, chars=None, /)\n",
            " |      Return a copy of the string with trailing whitespace removed.\n",
            " |\n",
            " |      If chars is given and not None, remove characters in chars instead.\n",
            " |\n",
            " |  split(self, /, sep=None, maxsplit=-1)\n",
            " |      Return a list of the substrings in the string, using sep as the separator string.\n",
            " |\n",
            " |        sep\n",
            " |          The separator used to split the string.\n",
            " |\n",
            " |          When set to None (the default value), will split on any whitespace\n",
            " |          character (including \\n \\r \\t \\f and spaces) and will discard\n",
            " |          empty strings from the result.\n",
            " |        maxsplit\n",
            " |          Maximum number of splits.\n",
            " |          -1 (the default value) means no limit.\n",
            " |\n",
            " |      Splitting starts at the front of the string and works to the end.\n",
            " |\n",
            " |      Note, str.split() is mainly useful for data that has been intentionally\n",
            " |      delimited.  With natural text that includes punctuation, consider using\n",
            " |      the regular expression module.\n",
            " |\n",
            " |  splitlines(self, /, keepends=False)\n",
            " |      Return a list of the lines in the string, breaking at line boundaries.\n",
            " |\n",
            " |      Line breaks are not included in the resulting list unless keepends is given and\n",
            " |      true.\n",
            " |\n",
            " |  startswith(...)\n",
            " |      S.startswith(prefix[, start[, end]]) -> bool\n",
            " |\n",
            " |      Return True if S starts with the specified prefix, False otherwise.\n",
            " |      With optional start, test S beginning at that position.\n",
            " |      With optional end, stop comparing S at that position.\n",
            " |      prefix can also be a tuple of strings to try.\n",
            " |\n",
            " |  strip(self, chars=None, /)\n",
            " |      Return a copy of the string with leading and trailing whitespace removed.\n",
            " |\n",
            " |      If chars is given and not None, remove characters in chars instead.\n",
            " |\n",
            " |  swapcase(self, /)\n",
            " |      Convert uppercase characters to lowercase and lowercase characters to uppercase.\n",
            " |\n",
            " |  title(self, /)\n",
            " |      Return a version of the string where each word is titlecased.\n",
            " |\n",
            " |      More specifically, words start with uppercased characters and all remaining\n",
            " |      cased characters have lower case.\n",
            " |\n",
            " |  translate(self, table, /)\n",
            " |      Replace each character in the string using the given translation table.\n",
            " |\n",
            " |        table\n",
            " |          Translation table, which must be a mapping of Unicode ordinals to\n",
            " |          Unicode ordinals, strings, or None.\n",
            " |\n",
            " |      The table must implement lookup/indexing via __getitem__, for instance a\n",
            " |      dictionary or list.  If this operation raises LookupError, the character is\n",
            " |      left untouched.  Characters mapped to None are deleted.\n",
            " |\n",
            " |  upper(self, /)\n",
            " |      Return a copy of the string converted to uppercase.\n",
            " |\n",
            " |  zfill(self, width, /)\n",
            " |      Pad a numeric string with zeros on the left, to fill a field of the given width.\n",
            " |\n",
            " |      The string is never truncated.\n",
            " |\n",
            " |  ----------------------------------------------------------------------\n",
            " |  Static methods defined here:\n",
            " |\n",
            " |  __new__(*args, **kwargs)\n",
            " |      Create and return a new object.  See help(type) for accurate signature.\n",
            " |\n",
            " |  maketrans(...)\n",
            " |      Return a translation table usable for str.translate().\n",
            " |\n",
            " |      If there is only one argument, it must be a dictionary mapping Unicode\n",
            " |      ordinals (integers) or characters to Unicode ordinals, strings or None.\n",
            " |      Character keys will be then converted to ordinals.\n",
            " |      If there are two arguments, they must be strings of equal length, and\n",
            " |      in the resulting dictionary, each character in x will be mapped to the\n",
            " |      character at the same position in y. If there is a third argument, it\n",
            " |      must be a string, whose characters will be mapped to None in the result.\n",
            "\n"
          ]
        }
      ]
    },
    {
      "cell_type": "markdown",
      "source": [
        "# Variables: The Reference to Objects\n",
        "##Think of a variable as a cell in an Excel spreadsheet. You can store data in it, like a number, text, or a formula.\n",
        "\n",
        "Variable: A defined name that references an object."
      ],
      "metadata": {
        "id": "iGYDFWAyNsr9"
      }
    },
    {
      "cell_type": "code",
      "source": [
        "job_title = \"Data analyst\"\n",
        "job_location = \"United States\"\n",
        "job_salary = 90000"
      ],
      "metadata": {
        "id": "_jGtxzdbNniA"
      },
      "execution_count": 52,
      "outputs": []
    },
    {
      "cell_type": "code",
      "source": [
        "id(job_title)"
      ],
      "metadata": {
        "colab": {
          "base_uri": "https://localhost:8080/"
        },
        "id": "k2HaFk7AN6g1",
        "outputId": "d5ba3683-ac83-4000-ad83-f18dccf5a1d6"
      },
      "execution_count": 38,
      "outputs": [
        {
          "output_type": "execute_result",
          "data": {
            "text/plain": [
              "136420287412144"
            ]
          },
          "metadata": {},
          "execution_count": 38
        }
      ]
    },
    {
      "cell_type": "code",
      "source": [
        "job_1 = \"Data analyst\"\n",
        "job_2 = \"Data analyst\"\n"
      ],
      "metadata": {
        "id": "G29q2b2-N8Kx"
      },
      "execution_count": 39,
      "outputs": []
    },
    {
      "cell_type": "code",
      "source": [
        "id (job_1), id(job_2)"
      ],
      "metadata": {
        "colab": {
          "base_uri": "https://localhost:8080/"
        },
        "id": "4Zw8QPC4OAEy",
        "outputId": "384bffc1-3711-4b9c-e543-29d2883f7d18"
      },
      "execution_count": 40,
      "outputs": [
        {
          "output_type": "execute_result",
          "data": {
            "text/plain": [
              "(136420285369840, 136420285372400)"
            ]
          },
          "metadata": {},
          "execution_count": 40
        }
      ]
    },
    {
      "cell_type": "code",
      "source": [
        "print(\"What's up, Data nerds\")"
      ],
      "metadata": {
        "colab": {
          "base_uri": "https://localhost:8080/"
        },
        "id": "RFE8r9fpODqJ",
        "outputId": "fe77ddf5-e89a-48b8-91ce-17f7cc5d56c7"
      },
      "execution_count": 41,
      "outputs": [
        {
          "output_type": "stream",
          "name": "stdout",
          "text": [
            "What's up, Data nerds\n"
          ]
        }
      ]
    },
    {
      "cell_type": "markdown",
      "source": [
        "# Functions: The Manipulators of Objects\n",
        "Functions are like custom formulas in Excel. They perform tasks that can be applied to different sets of data.\n",
        "\n",
        "Function: A reusable piece of code that performs a specific task."
      ],
      "metadata": {
        "id": "5zXzUnHsOcds"
      }
    },
    {
      "cell_type": "code",
      "source": [
        "def greet():\n",
        "    return \"What's up, Data Nerds!\""
      ],
      "metadata": {
        "id": "hFbbOS2EOJIL"
      },
      "execution_count": 43,
      "outputs": []
    },
    {
      "cell_type": "code",
      "source": [
        "greet()"
      ],
      "metadata": {
        "colab": {
          "base_uri": "https://localhost:8080/",
          "height": 36
        },
        "id": "-LUHKfkvOMVU",
        "outputId": "83f1f6e1-e151-4836-9515-f1befec8cc0c"
      },
      "execution_count": 44,
      "outputs": [
        {
          "output_type": "execute_result",
          "data": {
            "text/plain": [
              "\"What's up, Data Nerds!\""
            ],
            "application/vnd.google.colaboratory.intrinsic+json": {
              "type": "string"
            }
          },
          "metadata": {},
          "execution_count": 44
        }
      ]
    },
    {
      "cell_type": "code",
      "source": [
        "def display_info(title, location, salary):\n",
        "    return print(f\"JOB:       {title}\\nLOCATION:  {location}\\nSALARY:    ${salary:,.0f}\")"
      ],
      "metadata": {
        "id": "kvlr6bmKOT5u"
      },
      "execution_count": 45,
      "outputs": []
    },
    {
      "cell_type": "code",
      "source": [
        "display_info(job_title, job_location,job_salary)"
      ],
      "metadata": {
        "colab": {
          "base_uri": "https://localhost:8080/"
        },
        "id": "IeNJDMCLOp2h",
        "outputId": "7892a011-56ba-4127-df22-b5eaeb5c1456"
      },
      "execution_count": 53,
      "outputs": [
        {
          "output_type": "stream",
          "name": "stdout",
          "text": [
            "JOB:       Data analyst\n",
            "LOCATION:  United States\n",
            "SALARY:    $90,000\n"
          ]
        }
      ]
    },
    {
      "cell_type": "markdown",
      "source": [
        "#Classes: The Template of Objects\n",
        "A class is like a template for your records in Excel. It defines the fields that each record will have.\n",
        "\n",
        "Class: A template for creating objects (records)."
      ],
      "metadata": {
        "id": "EWW1UtFHO2_C"
      }
    },
    {
      "cell_type": "code",
      "source": [
        "type(90000)"
      ],
      "metadata": {
        "colab": {
          "base_uri": "https://localhost:8080/"
        },
        "id": "QQXa1JYYO3vZ",
        "outputId": "7e6cdcce-9ec5-42de-cffa-127125e1c682"
      },
      "execution_count": 54,
      "outputs": [
        {
          "output_type": "execute_result",
          "data": {
            "text/plain": [
              "int"
            ]
          },
          "metadata": {},
          "execution_count": 54
        }
      ]
    },
    {
      "cell_type": "code",
      "source": [
        "help(int)"
      ],
      "metadata": {
        "id": "e7WA6sCHO5If"
      },
      "execution_count": null,
      "outputs": []
    },
    {
      "cell_type": "markdown",
      "source": [
        "# Methods: The functions of an Object"
      ],
      "metadata": {
        "id": "Q_oYG9MvQCAp"
      }
    },
    {
      "cell_type": "code",
      "source": [
        "class JobPost:\n",
        "    def __init__(self, title, location, salary):\n",
        "        self.title = title  # Attribute\n",
        "        self.location = location  # Attribute\n",
        "        self.salary = salary  # Attribute\n",
        "    def display_info(self):\n",
        "        return print(f\"JOB:       {self.title}\\nLOCATION:  {self.location}\\nSALARY:    ${self.salary:,.0f}\")"
      ],
      "metadata": {
        "id": "ckH6RWFvPUHW"
      },
      "execution_count": 62,
      "outputs": []
    },
    {
      "cell_type": "code",
      "source": [
        "job_1 = JobPost(job_title, job_location, job_salary)"
      ],
      "metadata": {
        "id": "5P2S7V8JQHK9"
      },
      "execution_count": 63,
      "outputs": []
    },
    {
      "cell_type": "code",
      "source": [
        "job_1.title"
      ],
      "metadata": {
        "colab": {
          "base_uri": "https://localhost:8080/",
          "height": 36
        },
        "id": "S0n0vIDNQaOm",
        "outputId": "66f9b69c-c173-484c-db50-ae4fc02ca5f9"
      },
      "execution_count": 64,
      "outputs": [
        {
          "output_type": "execute_result",
          "data": {
            "text/plain": [
              "'Data analyst'"
            ],
            "application/vnd.google.colaboratory.intrinsic+json": {
              "type": "string"
            }
          },
          "metadata": {},
          "execution_count": 64
        }
      ]
    },
    {
      "cell_type": "code",
      "source": [
        "job_1.display_info()"
      ],
      "metadata": {
        "colab": {
          "base_uri": "https://localhost:8080/"
        },
        "id": "Nm_MWtuhQdjm",
        "outputId": "c4df0c02-b4aa-4acd-e7d7-784c0cba27ae"
      },
      "execution_count": 65,
      "outputs": [
        {
          "output_type": "stream",
          "name": "stdout",
          "text": [
            "JOB:       Data analyst\n",
            "LOCATION:  United States\n",
            "SALARY:    $90,000\n"
          ]
        }
      ]
    },
    {
      "cell_type": "code",
      "source": [
        "salary = 90000"
      ],
      "metadata": {
        "id": "EHfW4CNjQifI"
      },
      "execution_count": 66,
      "outputs": []
    },
    {
      "cell_type": "code",
      "source": [
        "type(salary)"
      ],
      "metadata": {
        "colab": {
          "base_uri": "https://localhost:8080/"
        },
        "id": "2zO83levQl1s",
        "outputId": "1c1e7e51-f111-42ac-c06e-cdf68a5c1d22"
      },
      "execution_count": 67,
      "outputs": [
        {
          "output_type": "execute_result",
          "data": {
            "text/plain": [
              "int"
            ]
          },
          "metadata": {},
          "execution_count": 67
        }
      ]
    },
    {
      "cell_type": "code",
      "source": [
        "help(int)"
      ],
      "metadata": {
        "id": "YjzyM4VMQm56"
      },
      "execution_count": null,
      "outputs": []
    },
    {
      "cell_type": "code",
      "source": [
        "salary.__add__(1)"
      ],
      "metadata": {
        "colab": {
          "base_uri": "https://localhost:8080/"
        },
        "id": "lHxGH4sgQn_d",
        "outputId": "d06e891d-e3ab-4342-f945-313e95f0beef"
      },
      "execution_count": 69,
      "outputs": [
        {
          "output_type": "execute_result",
          "data": {
            "text/plain": [
              "90001"
            ]
          },
          "metadata": {},
          "execution_count": 69
        }
      ]
    },
    {
      "cell_type": "markdown",
      "source": [
        "# Data Types"
      ],
      "metadata": {
        "id": "sxxd5LUBRrnN"
      }
    },
    {
      "cell_type": "code",
      "source": [
        "total_salary = 110000"
      ],
      "metadata": {
        "id": "yuPkGnQ7Qwwt"
      },
      "execution_count": 70,
      "outputs": []
    },
    {
      "cell_type": "code",
      "source": [
        "salary = 10000"
      ],
      "metadata": {
        "id": "HP2j-eRyRuim"
      },
      "execution_count": 71,
      "outputs": []
    },
    {
      "cell_type": "code",
      "source": [
        "type(salary)\n",
        "# funzione che si utilizza per capire se è int, str, float"
      ],
      "metadata": {
        "colab": {
          "base_uri": "https://localhost:8080/"
        },
        "id": "1hmXxMtYRvmR",
        "outputId": "0a1d270b-ec39-4672-d428-6fe9f26aea48"
      },
      "execution_count": 73,
      "outputs": [
        {
          "output_type": "execute_result",
          "data": {
            "text/plain": [
              "int"
            ]
          },
          "metadata": {},
          "execution_count": 73
        }
      ]
    },
    {
      "cell_type": "code",
      "source": [
        "base_salary = total_salary - salary"
      ],
      "metadata": {
        "id": "x98vSH2sR8_5"
      },
      "execution_count": 74,
      "outputs": []
    },
    {
      "cell_type": "code",
      "source": [
        "base_salary"
      ],
      "metadata": {
        "colab": {
          "base_uri": "https://localhost:8080/"
        },
        "id": "ycrmeV2fSAWr",
        "outputId": "6a25a16f-5550-42b4-869d-c1c45b7c8f40"
      },
      "execution_count": 75,
      "outputs": [
        {
          "output_type": "execute_result",
          "data": {
            "text/plain": [
              "100000"
            ]
          },
          "metadata": {},
          "execution_count": 75
        }
      ]
    },
    {
      "cell_type": "code",
      "source": [
        "job_title = 'Data Analyst'\n",
        "remove_word = 'Data'"
      ],
      "metadata": {
        "id": "tnkJ2rCYSA7i"
      },
      "execution_count": 77,
      "outputs": []
    },
    {
      "cell_type": "code",
      "source": [
        "type(job_title)"
      ],
      "metadata": {
        "colab": {
          "base_uri": "https://localhost:8080/"
        },
        "id": "L2jo24GuSC8S",
        "outputId": "7ed7656c-1472-4587-b09c-88d13447d79c"
      },
      "execution_count": 78,
      "outputs": [
        {
          "output_type": "execute_result",
          "data": {
            "text/plain": [
              "str"
            ]
          },
          "metadata": {},
          "execution_count": 78
        }
      ]
    },
    {
      "cell_type": "code",
      "source": [
        "final_title = job_title - remove_word"
      ],
      "metadata": {
        "colab": {
          "base_uri": "https://localhost:8080/",
          "height": 141
        },
        "id": "1AOIggoeSG57",
        "outputId": "c8048faf-1fc0-4d75-9a74-1b8d0c2d4286"
      },
      "execution_count": 79,
      "outputs": [
        {
          "output_type": "error",
          "ename": "TypeError",
          "evalue": "unsupported operand type(s) for -: 'str' and 'str'",
          "traceback": [
            "\u001b[0;31m---------------------------------------------------------------------------\u001b[0m",
            "\u001b[0;31mTypeError\u001b[0m                                 Traceback (most recent call last)",
            "\u001b[0;32m/tmp/ipython-input-2679098686.py\u001b[0m in \u001b[0;36m<cell line: 0>\u001b[0;34m()\u001b[0m\n\u001b[0;32m----> 1\u001b[0;31m \u001b[0mfinal_title\u001b[0m \u001b[0;34m=\u001b[0m \u001b[0mjob_title\u001b[0m \u001b[0;34m-\u001b[0m \u001b[0mremove_word\u001b[0m\u001b[0;34m\u001b[0m\u001b[0;34m\u001b[0m\u001b[0m\n\u001b[0m",
            "\u001b[0;31mTypeError\u001b[0m: unsupported operand type(s) for -: 'str' and 'str'"
          ]
        }
      ]
    },
    {
      "cell_type": "markdown",
      "source": [
        "#### Built-in Types\n",
        "\n",
        "Python has the following data types built-in by default:\n",
        "| Type               | Data Type           | Example               |\n",
        "|--------------------|---------------------|-----------------------|\n",
        "| Text               | `str`               | `\"Data Nerd!\"`     |\n",
        "| Numeric            | `int`               | `42`                  |\n",
        "|                    | `float`             | `3.14159`             |\n",
        "|                    | `complex`           | `1 + 2j`              |\n",
        "| Sequence           | `list`              | `[1, 2, 3]`           |\n",
        "|                    | `tuple`             | `(1, 2, 3)`           |\n",
        "|                    | `range`             | `range(10)`           |\n",
        "| Mapping            | `dict`              | `{\"key\": \"value\"}`    |\n",
        "| Set                | `set`               | `{1, 2, 3}`           |\n",
        "|                    | `frozenset`         | `frozenset([1, 2, 3])`|\n",
        "| Boolean            | `bool`              | `True` or `False`     |\n",
        "| Binary             | `bytes`             | `b\"Data\"`            |\n",
        "|                    | `bytearray`         | `bytearray(5)`        |\n",
        "|                    | `memoryview`        | `memoryview(b\"Data\")`|\n",
        "| None               | `NoneType`          | `None`                |\n",
        "\n",
        "For more information on the different data types in Python check out the Python documentation for data types [here](https://docs.python.org/3/library/datatypes.html).\n",
        "\n",
        "#### Types Common in Data Analytics\n",
        "\n",
        "We'll mainly focus on the most common ones in data analytics:\n",
        "* Text Type: `str`\n",
        "* Numeric Types: `int`, `float`\n",
        "* Sequence Types:\t`list`, `tuples`\n",
        "* Mapping Type:\t`dict`\n",
        "* Set Types:\t`set`\n",
        "\n",
        "### Importance\n",
        "\n",
        "Fundamental for data processing. Pandas and matplotlib automatically handle different data types for operations like mathematical calculations, data manipulation, and plotting.\n",
        "\n"
      ],
      "metadata": {
        "id": "s1vbmLylTKZR"
      }
    },
    {
      "cell_type": "code",
      "source": [
        "help(str)"
      ],
      "metadata": {
        "id": "DAcOLZzJSIiQ"
      },
      "execution_count": null,
      "outputs": []
    },
    {
      "cell_type": "code",
      "source": [
        "'Data ' + 'Nerd'"
      ],
      "metadata": {
        "colab": {
          "base_uri": "https://localhost:8080/",
          "height": 36
        },
        "id": "Riqo43_DSnFE",
        "outputId": "7f2b19af-ffb2-467e-f26d-9791662494df"
      },
      "execution_count": 83,
      "outputs": [
        {
          "output_type": "execute_result",
          "data": {
            "text/plain": [
              "'Data Nerd'"
            ],
            "application/vnd.google.colaboratory.intrinsic+json": {
              "type": "string"
            }
          },
          "metadata": {},
          "execution_count": 83
        }
      ]
    },
    {
      "cell_type": "code",
      "source": [
        "' Data Nerd'.capitalize"
      ],
      "metadata": {
        "colab": {
          "base_uri": "https://localhost:8080/"
        },
        "id": "k3ZfUb6QTf0B",
        "outputId": "f45f6b50-b1e4-42cc-c1f2-0cec38c77229"
      },
      "execution_count": 84,
      "outputs": [
        {
          "output_type": "execute_result",
          "data": {
            "text/plain": [
              "<function str.capitalize()>"
            ]
          },
          "metadata": {},
          "execution_count": 84
        }
      ]
    },
    {
      "cell_type": "code",
      "source": [
        "'Data Nerd'.capitalize()"
      ],
      "metadata": {
        "colab": {
          "base_uri": "https://localhost:8080/",
          "height": 36
        },
        "id": "XnMc335OT6PG",
        "outputId": "a2181b5a-1275-4534-cf0b-4b2e689cf4f8"
      },
      "execution_count": 87,
      "outputs": [
        {
          "output_type": "execute_result",
          "data": {
            "text/plain": [
              "'Data nerd'"
            ],
            "application/vnd.google.colaboratory.intrinsic+json": {
              "type": "string"
            }
          },
          "metadata": {},
          "execution_count": 87
        }
      ]
    },
    {
      "cell_type": "markdown",
      "source": [
        "## Set Data Type\n",
        "\n",
        "### Notes\n",
        "\n",
        "* Set the specific data type using constructor *functions*.\n",
        "* First, what is a *function*? We'll be diving into functions a lot more later. But right now understand that it's a block of code designed to do a specific task.\n",
        "    * It can take input (known as arguments), execute a series of operations, and return an output.\n",
        "    * We've already used a function several times now called `print()`. It outputs the argument (the string of text you've been typing in) to the console.\n",
        "        * For example `print('hello world')`. Will print out 'hello world'.\n",
        "        * `print()` focuses on displaying output.\n",
        "    * But most functions perform calculations, manipulate data, or return data. As you'll see below.\n",
        "\n",
        "Below are some common data types:\n",
        "\n",
        "| Data Type | Syntax                     | Example                           |\n",
        "|-----------|----------------------------|-----------------------------------|\n",
        "| String    | `str()`                    | `str('Hello World')`              |\n",
        "| Integer   | `int()`                    | `int(20)`                         |\n",
        "| Float     | `float()`                  | `float(20.5)`                     |\n",
        "| Complex   | `complex()`                | `complex(1j)`                     |\n",
        "| List      | `list()`                   | `list(('apple', 'banana', 'cherry'))` |\n",
        "| Tuple     | `tuple()`                  | `tuple(('apple', 'banana', 'cherry'))`|\n",
        "| Range     | `range()`                  | `range(6)`                        |\n",
        "| Dictionary| `dict()`                   | `dict(name='John', age=36)`       |\n",
        "| Set       | `set()`                    | `set(('apple', 'banana', 'cherry'))`  |\n",
        "| Frozenset | `frozenset()`              | `frozenset(('apple', 'banana', 'cherry'))`|\n",
        "| Boolean   | `bool()`                   | `bool(5)`                         |\n",
        "| Bytes     | `bytes()`                  | `bytes(5)`                        |\n",
        "| Bytearray | `bytearray()`              | `bytearray(5)`                    |\n",
        "| Memoryview| `memoryview()`             | `memoryview(bytes(5))`            |\n",
        "\n",
        "### Example\n",
        "\n",
        "Set the specific data type for each variable. Let's specify a new job posting."
      ],
      "metadata": {
        "id": "QaTll6MVUTpN"
      }
    },
    {
      "cell_type": "code",
      "source": [
        "job_title = 'Data analyst'\n",
        "type(job_title)"
      ],
      "metadata": {
        "colab": {
          "base_uri": "https://localhost:8080/"
        },
        "id": "UmkyuyJ9UT1I",
        "outputId": "ffadfcb2-41cc-4cc8-b8c9-a74d3da0f17a"
      },
      "execution_count": 88,
      "outputs": [
        {
          "output_type": "execute_result",
          "data": {
            "text/plain": [
              "str"
            ]
          },
          "metadata": {},
          "execution_count": 88
        }
      ]
    },
    {
      "cell_type": "code",
      "source": [
        "job_id = 102\n",
        "type(job_id)"
      ],
      "metadata": {
        "colab": {
          "base_uri": "https://localhost:8080/"
        },
        "id": "6Ye7SVk9UZCC",
        "outputId": "f8ac89b0-e1a3-463e-c36d-184b029fd473"
      },
      "execution_count": 89,
      "outputs": [
        {
          "output_type": "execute_result",
          "data": {
            "text/plain": [
              "int"
            ]
          },
          "metadata": {},
          "execution_count": 89
        }
      ]
    },
    {
      "cell_type": "code",
      "source": [
        "job_id=float(102)"
      ],
      "metadata": {
        "id": "ctY0j4M_Ua4Q"
      },
      "execution_count": 90,
      "outputs": []
    },
    {
      "cell_type": "code",
      "source": [
        "type(job_id)"
      ],
      "metadata": {
        "colab": {
          "base_uri": "https://localhost:8080/"
        },
        "id": "Dcq82--rUcx8",
        "outputId": "d22a7403-695c-489f-a757-9492fb139bd3"
      },
      "execution_count": 91,
      "outputs": [
        {
          "output_type": "execute_result",
          "data": {
            "text/plain": [
              "float"
            ]
          },
          "metadata": {},
          "execution_count": 91
        }
      ]
    },
    {
      "cell_type": "code",
      "source": [
        "help(float)"
      ],
      "metadata": {
        "id": "guDw-bk2Uebz"
      },
      "execution_count": null,
      "outputs": []
    },
    {
      "cell_type": "markdown",
      "source": [
        "# Strings"
      ],
      "metadata": {
        "id": "1o_vPI0Ifv1J"
      }
    },
    {
      "cell_type": "code",
      "source": [
        "\"This is a string in double quotes\""
      ],
      "metadata": {
        "colab": {
          "base_uri": "https://localhost:8080/",
          "height": 36
        },
        "id": "qcpxW_1DUwGu",
        "outputId": "89d8f744-0d1e-424b-c85b-2b096621704e"
      },
      "execution_count": 93,
      "outputs": [
        {
          "output_type": "execute_result",
          "data": {
            "text/plain": [
              "'This is a string in double quotes'"
            ],
            "application/vnd.google.colaboratory.intrinsic+json": {
              "type": "string"
            }
          },
          "metadata": {},
          "execution_count": 93
        }
      ]
    },
    {
      "cell_type": "code",
      "source": [
        "'This is a string in double quotes'"
      ],
      "metadata": {
        "colab": {
          "base_uri": "https://localhost:8080/",
          "height": 36
        },
        "id": "UJ1KsojBfzLk",
        "outputId": "84fb68dc-6ab3-4ea2-bde7-c1f26716de03"
      },
      "execution_count": 95,
      "outputs": [
        {
          "output_type": "execute_result",
          "data": {
            "text/plain": [
              "'This is a string in double quotes'"
            ],
            "application/vnd.google.colaboratory.intrinsic+json": {
              "type": "string"
            }
          },
          "metadata": {},
          "execution_count": 95
        }
      ]
    },
    {
      "cell_type": "code",
      "source": [
        "skill = \"Python\""
      ],
      "metadata": {
        "id": "p0bm8dpmf19F"
      },
      "execution_count": 96,
      "outputs": []
    },
    {
      "cell_type": "code",
      "source": [
        "type(skill)"
      ],
      "metadata": {
        "colab": {
          "base_uri": "https://localhost:8080/"
        },
        "id": "IvighUzzf5Pk",
        "outputId": "73d6d26f-14ab-4ea0-a96a-df999b2d9ce3"
      },
      "execution_count": 97,
      "outputs": [
        {
          "output_type": "execute_result",
          "data": {
            "text/plain": [
              "str"
            ]
          },
          "metadata": {},
          "execution_count": 97
        }
      ]
    },
    {
      "cell_type": "code",
      "source": [
        "skill.upper()"
      ],
      "metadata": {
        "colab": {
          "base_uri": "https://localhost:8080/",
          "height": 36
        },
        "id": "048LBJUpf6PH",
        "outputId": "18fd979e-d390-4abf-ad8b-1c842a949a08"
      },
      "execution_count": 98,
      "outputs": [
        {
          "output_type": "execute_result",
          "data": {
            "text/plain": [
              "'PYTHON'"
            ],
            "application/vnd.google.colaboratory.intrinsic+json": {
              "type": "string"
            }
          },
          "metadata": {},
          "execution_count": 98
        }
      ]
    },
    {
      "cell_type": "code",
      "source": [
        "help(str)"
      ],
      "metadata": {
        "id": "MaMX6KLVf-Ce"
      },
      "execution_count": null,
      "outputs": []
    },
    {
      "cell_type": "code",
      "source": [
        "\"Python\".lower()"
      ],
      "metadata": {
        "colab": {
          "base_uri": "https://localhost:8080/",
          "height": 36
        },
        "id": "4DB-eGdVgRuE",
        "outputId": "6b298221-45e4-4609-a3de-97ebff723fb1"
      },
      "execution_count": 99,
      "outputs": [
        {
          "output_type": "execute_result",
          "data": {
            "text/plain": [
              "'python'"
            ],
            "application/vnd.google.colaboratory.intrinsic+json": {
              "type": "string"
            }
          },
          "metadata": {},
          "execution_count": 99
        }
      ]
    },
    {
      "cell_type": "code",
      "source": [
        "str.lower(\"Python\")"
      ],
      "metadata": {
        "colab": {
          "base_uri": "https://localhost:8080/",
          "height": 36
        },
        "id": "zMjzJcV8gTCC",
        "outputId": "a42647c3-1c48-44e7-d497-fa847c8489b3"
      },
      "execution_count": 100,
      "outputs": [
        {
          "output_type": "execute_result",
          "data": {
            "text/plain": [
              "'python'"
            ],
            "application/vnd.google.colaboratory.intrinsic+json": {
              "type": "string"
            }
          },
          "metadata": {},
          "execution_count": 100
        }
      ]
    },
    {
      "cell_type": "code",
      "source": [
        "skill = \"Python\""
      ],
      "metadata": {
        "id": "GflXqyJtgYfj"
      },
      "execution_count": 101,
      "outputs": []
    },
    {
      "cell_type": "code",
      "source": [
        "skill.lower()"
      ],
      "metadata": {
        "colab": {
          "base_uri": "https://localhost:8080/",
          "height": 36
        },
        "id": "mQng8lmpgjXV",
        "outputId": "2bd9c6b9-1d63-4d26-def0-f0b103fb59cd"
      },
      "execution_count": 102,
      "outputs": [
        {
          "output_type": "execute_result",
          "data": {
            "text/plain": [
              "'python'"
            ],
            "application/vnd.google.colaboratory.intrinsic+json": {
              "type": "string"
            }
          },
          "metadata": {},
          "execution_count": 102
        }
      ]
    },
    {
      "cell_type": "code",
      "source": [
        "skill.replace(\"P\" , \"J\")\n",
        "# Metodo utilizzato per rimpiazziare un carattere/numero con un altro"
      ],
      "metadata": {
        "colab": {
          "base_uri": "https://localhost:8080/",
          "height": 36
        },
        "id": "1ifpa4MxgkYZ",
        "outputId": "91a04ed9-e357-4500-fcf4-957e799311a0"
      },
      "execution_count": 103,
      "outputs": [
        {
          "output_type": "execute_result",
          "data": {
            "text/plain": [
              "'Jython'"
            ],
            "application/vnd.google.colaboratory.intrinsic+json": {
              "type": "string"
            }
          },
          "metadata": {},
          "execution_count": 103
        }
      ]
    },
    {
      "cell_type": "code",
      "source": [
        "job_title = \"Data Analyst\" #rename Data as Doto"
      ],
      "metadata": {
        "id": "ye3MuQHXg1s4"
      },
      "execution_count": 104,
      "outputs": []
    },
    {
      "cell_type": "code",
      "source": [
        "job_title.replace('a' , 'o', 2)"
      ],
      "metadata": {
        "colab": {
          "base_uri": "https://localhost:8080/",
          "height": 36
        },
        "id": "JoMFc6p7g7R8",
        "outputId": "3afbc773-f5fa-48e8-cbf8-a7bb46a738ea"
      },
      "execution_count": 107,
      "outputs": [
        {
          "output_type": "execute_result",
          "data": {
            "text/plain": [
              "'Doto Analyst'"
            ],
            "application/vnd.google.colaboratory.intrinsic+json": {
              "type": "string"
            }
          },
          "metadata": {},
          "execution_count": 107
        }
      ]
    },
    {
      "cell_type": "code",
      "source": [
        "job_title.split(sep=\" \",maxsplit=1)"
      ],
      "metadata": {
        "colab": {
          "base_uri": "https://localhost:8080/"
        },
        "id": "wbEpc1t5g_1M",
        "outputId": "4c00a60e-64cd-425d-ed1a-77fcbbfd1199"
      },
      "execution_count": 108,
      "outputs": [
        {
          "output_type": "execute_result",
          "data": {
            "text/plain": [
              "['Data', 'Analyst']"
            ]
          },
          "metadata": {},
          "execution_count": 108
        }
      ]
    },
    {
      "cell_type": "code",
      "source": [
        "job_title = job_title.replace('a' , 'o', 2)"
      ],
      "metadata": {
        "id": "vDNSJhMAhVAC"
      },
      "execution_count": 109,
      "outputs": []
    },
    {
      "cell_type": "code",
      "source": [
        "job_title.split(sep=\" \",maxsplit=1)"
      ],
      "metadata": {
        "colab": {
          "base_uri": "https://localhost:8080/"
        },
        "id": "BA8CaOxXhge7",
        "outputId": "441d2736-97ed-4a01-f853-7290db3affcd"
      },
      "execution_count": 114,
      "outputs": [
        {
          "output_type": "execute_result",
          "data": {
            "text/plain": [
              "['Doto', 'Analyst']"
            ]
          },
          "metadata": {},
          "execution_count": 114
        }
      ]
    },
    {
      "cell_type": "code",
      "source": [
        "str.__add__(\"Data\", \" Analyst\")"
      ],
      "metadata": {
        "colab": {
          "base_uri": "https://localhost:8080/",
          "height": 36
        },
        "id": "N7iZ0d_QhhbP",
        "outputId": "dfb26a3c-de90-4562-9b4f-8ef9f5d05ffe"
      },
      "execution_count": 115,
      "outputs": [
        {
          "output_type": "execute_result",
          "data": {
            "text/plain": [
              "'Data Analyst'"
            ],
            "application/vnd.google.colaboratory.intrinsic+json": {
              "type": "string"
            }
          },
          "metadata": {},
          "execution_count": 115
        }
      ]
    },
    {
      "cell_type": "code",
      "source": [
        "\"Data\".__add__(\" Analyst\")"
      ],
      "metadata": {
        "colab": {
          "base_uri": "https://localhost:8080/",
          "height": 36
        },
        "id": "n3f2EXhwiBH8",
        "outputId": "be35c1c0-58c8-4869-c5f7-b331a060d2b3"
      },
      "execution_count": 116,
      "outputs": [
        {
          "output_type": "execute_result",
          "data": {
            "text/plain": [
              "'Data Analyst'"
            ],
            "application/vnd.google.colaboratory.intrinsic+json": {
              "type": "string"
            }
          },
          "metadata": {},
          "execution_count": 116
        }
      ]
    },
    {
      "cell_type": "code",
      "source": [
        "\"Data\" + \" Analyst\""
      ],
      "metadata": {
        "colab": {
          "base_uri": "https://localhost:8080/",
          "height": 36
        },
        "id": "Oamg4jsQiFta",
        "outputId": "393cca0d-f6e9-4eef-9a67-d978754a00a7"
      },
      "execution_count": 118,
      "outputs": [
        {
          "output_type": "execute_result",
          "data": {
            "text/plain": [
              "'Data Analyst'"
            ],
            "application/vnd.google.colaboratory.intrinsic+json": {
              "type": "string"
            }
          },
          "metadata": {},
          "execution_count": 118
        }
      ]
    },
    {
      "cell_type": "code",
      "source": [
        "\"Data Analyst\" * 10"
      ],
      "metadata": {
        "colab": {
          "base_uri": "https://localhost:8080/",
          "height": 36
        },
        "id": "Fke6gC0AiNKX",
        "outputId": "d583bc69-166c-4e0b-c97a-5644cdedae6b"
      },
      "execution_count": 119,
      "outputs": [
        {
          "output_type": "execute_result",
          "data": {
            "text/plain": [
              "'Data AnalystData AnalystData AnalystData AnalystData AnalystData AnalystData AnalystData AnalystData AnalystData Analyst'"
            ],
            "application/vnd.google.colaboratory.intrinsic+json": {
              "type": "string"
            }
          },
          "metadata": {},
          "execution_count": 119
        }
      ]
    },
    {
      "cell_type": "code",
      "source": [
        "\"Data Analyst\".__len__()"
      ],
      "metadata": {
        "colab": {
          "base_uri": "https://localhost:8080/"
        },
        "id": "PTxRFZDoiXcC",
        "outputId": "ada8edc9-e7d1-4ce1-cff0-1b6f618414b7"
      },
      "execution_count": 120,
      "outputs": [
        {
          "output_type": "execute_result",
          "data": {
            "text/plain": [
              "12"
            ]
          },
          "metadata": {},
          "execution_count": 120
        }
      ]
    },
    {
      "cell_type": "code",
      "source": [
        "len(\"Data Analyst\")"
      ],
      "metadata": {
        "colab": {
          "base_uri": "https://localhost:8080/"
        },
        "id": "tY4OmlP8iez3",
        "outputId": "05ede972-c756-41d4-e477-fc0f5b2d6d7b"
      },
      "execution_count": 121,
      "outputs": [
        {
          "output_type": "execute_result",
          "data": {
            "text/plain": [
              "12"
            ]
          },
          "metadata": {},
          "execution_count": 121
        }
      ]
    },
    {
      "cell_type": "code",
      "source": [],
      "metadata": {
        "id": "hs8XYxSOihEH"
      },
      "execution_count": null,
      "outputs": []
    },
    {
      "cell_type": "markdown",
      "source": [
        "# Formattazione stringhe"
      ],
      "metadata": {
        "id": "QgjZcYEZjCFB"
      }
    },
    {
      "cell_type": "markdown",
      "source": [
        "In Python there's a few different options for formatting our output:\n",
        "\n",
        "| Method          | Syntax                                        | Example (prints \"Hello Luke\")                                   | Description                                                       |\n",
        "|-----------------|------------------------------------------------|------------------------------------------------|-------------------------------------------------------------------|\n",
        "| Concatenation   | `'string' + variable`                          | `'Hello ' + name`                              | Combines strings by directly appending them together.             |\n",
        "| % Formatting    | `'string %s' % variable`                       | `'Hello %s' % name`                            | Uses % as a placeholder for string substitutions.                 |\n",
        "| str.format()    | `'string {}'.format(variable)`                 | `'Hello {}'.format(name)`                      | Utilizes curly braces `{}` as placeholders for formatting.        |\n",
        "| f-strings       | `f'string {variable}'`                         | `f'Hello {name}'`                              | Embeds expressions inside string literals, prefixed with `f`.     |\n",
        "| join()          | `'separator'.join([string, variable])`         | `', '.join(['Hello', name])`                   | Joins a list of strings into a single string with a separator.    |\n",
        "\n",
        "\n",
        "For our examples we'll be printing out a `role` and/or `skill`."
      ],
      "metadata": {
        "id": "l4rNGNOhjGw8"
      }
    },
    {
      "cell_type": "markdown",
      "source": [
        "## Format method .format()"
      ],
      "metadata": {
        "id": "wq8ixVMXkBzt"
      }
    },
    {
      "cell_type": "code",
      "source": [
        "role = 'Data Analyst'\n",
        "skill = 'Python'"
      ],
      "metadata": {
        "id": "f4xZTEjUjGGq"
      },
      "execution_count": 122,
      "outputs": []
    },
    {
      "cell_type": "code",
      "source": [
        "# Write out 'Role: Data Analyst'"
      ],
      "metadata": {
        "id": "YlgSkew5jMm3"
      },
      "execution_count": 123,
      "outputs": []
    },
    {
      "cell_type": "code",
      "source": [
        "'Role: '+ role"
      ],
      "metadata": {
        "colab": {
          "base_uri": "https://localhost:8080/",
          "height": 36
        },
        "id": "BeF0W0qWjQJx",
        "outputId": "5b06fb93-5b03-4500-bb8a-686f684f79be"
      },
      "execution_count": 125,
      "outputs": [
        {
          "output_type": "execute_result",
          "data": {
            "text/plain": [
              "'Role: Data Analyst'"
            ],
            "application/vnd.google.colaboratory.intrinsic+json": {
              "type": "string"
            }
          },
          "metadata": {},
          "execution_count": 125
        }
      ]
    },
    {
      "cell_type": "code",
      "source": [
        "role = 'Data Analyst'\n",
        "skill = 'Python'"
      ],
      "metadata": {
        "id": "nQmwpL56jTgz"
      },
      "execution_count": 126,
      "outputs": []
    },
    {
      "cell_type": "code",
      "source": [
        "\"Role: {}\".format(role)"
      ],
      "metadata": {
        "colab": {
          "base_uri": "https://localhost:8080/",
          "height": 36
        },
        "id": "qI95ELEljsPn",
        "outputId": "1f22e652-0eb3-4af2-e28b-bc1aa3b15ff1"
      },
      "execution_count": 127,
      "outputs": [
        {
          "output_type": "execute_result",
          "data": {
            "text/plain": [
              "'Role: Data Analyst'"
            ],
            "application/vnd.google.colaboratory.intrinsic+json": {
              "type": "string"
            }
          },
          "metadata": {},
          "execution_count": 127
        }
      ]
    },
    {
      "cell_type": "code",
      "source": [
        "\"Role {}; Skill Required {}\".format(role, skill)"
      ],
      "metadata": {
        "colab": {
          "base_uri": "https://localhost:8080/",
          "height": 36
        },
        "id": "-QZL1gjwjxQ2",
        "outputId": "cb4a153a-f522-485c-97aa-7e95f9255bf4"
      },
      "execution_count": 128,
      "outputs": [
        {
          "output_type": "execute_result",
          "data": {
            "text/plain": [
              "'Role Data Analyst; Skill Required Python'"
            ],
            "application/vnd.google.colaboratory.intrinsic+json": {
              "type": "string"
            }
          },
          "metadata": {},
          "execution_count": 128
        }
      ]
    },
    {
      "cell_type": "markdown",
      "source": [
        "il format viene utilizzato per mettere all'interno delle parentesi graffe {} una o più funzioni all'interno dei nostri codici"
      ],
      "metadata": {
        "id": "TQv48tRukEgk"
      }
    },
    {
      "cell_type": "code",
      "source": [
        "\"Role {role}; Skill Required {skill}\".format(role=role, skill=skill)"
      ],
      "metadata": {
        "colab": {
          "base_uri": "https://localhost:8080/",
          "height": 36
        },
        "id": "WaHj7dqmj66-",
        "outputId": "0fe23668-f674-4608-9353-a50d4f573964"
      },
      "execution_count": 129,
      "outputs": [
        {
          "output_type": "execute_result",
          "data": {
            "text/plain": [
              "'Role Data Analyst; Skill Required Python'"
            ],
            "application/vnd.google.colaboratory.intrinsic+json": {
              "type": "string"
            }
          },
          "metadata": {},
          "execution_count": 129
        }
      ]
    },
    {
      "cell_type": "markdown",
      "source": [
        "## f-strings - Formatted string literals"
      ],
      "metadata": {
        "id": "7mmYQwJekZDC"
      }
    },
    {
      "cell_type": "code",
      "source": [
        "role = \"Data Analyst\"\n",
        "skill = \"Python\"\n",
        "f\"Role: {role}; Skill Required: {skill}\""
      ],
      "metadata": {
        "colab": {
          "base_uri": "https://localhost:8080/",
          "height": 36
        },
        "id": "5h9UrJB_kXIi",
        "outputId": "e8869da5-97ff-4ddc-e77f-097475b293f3"
      },
      "execution_count": 130,
      "outputs": [
        {
          "output_type": "execute_result",
          "data": {
            "text/plain": [
              "'Role: Data Analyst; Skill Required: Python'"
            ],
            "application/vnd.google.colaboratory.intrinsic+json": {
              "type": "string"
            }
          },
          "metadata": {},
          "execution_count": 130
        }
      ]
    },
    {
      "cell_type": "code",
      "source": [
        "# Fstring è più comprensibile da utilizzare rispetto a format"
      ],
      "metadata": {
        "id": "pRWzCk8RkiyS"
      },
      "execution_count": 131,
      "outputs": []
    },
    {
      "cell_type": "markdown",
      "source": [
        "##%-formatting (printf-style string formatting)"
      ],
      "metadata": {
        "id": "LjboC6qbkzOF"
      }
    },
    {
      "cell_type": "code",
      "source": [
        "\"Role: %s, Skill Required: %s\" % (role,skill)"
      ],
      "metadata": {
        "colab": {
          "base_uri": "https://localhost:8080/",
          "height": 36
        },
        "id": "-i2HyiOHkyGw",
        "outputId": "ecf86f67-77f1-406c-ccca-1e933b9e2cbd"
      },
      "execution_count": 135,
      "outputs": [
        {
          "output_type": "execute_result",
          "data": {
            "text/plain": [
              "'Role: Data Analyst, Skill Required: Python'"
            ],
            "application/vnd.google.colaboratory.intrinsic+json": {
              "type": "string"
            }
          },
          "metadata": {},
          "execution_count": 135
        }
      ]
    },
    {
      "cell_type": "markdown",
      "source": [
        "##join() Method"
      ],
      "metadata": {
        "id": "-cqEwXOflHvv"
      }
    },
    {
      "cell_type": "code",
      "source": [
        "years_experience = '0123456789'"
      ],
      "metadata": {
        "id": "l5EeLrEVk5GP"
      },
      "execution_count": 137,
      "outputs": []
    },
    {
      "cell_type": "code",
      "source": [
        "', '.join(years_experience)"
      ],
      "metadata": {
        "colab": {
          "base_uri": "https://localhost:8080/",
          "height": 36
        },
        "id": "_tXWm-2jlMgm",
        "outputId": "c06aae45-54b8-4449-c273-13514c6a0a8c"
      },
      "execution_count": 138,
      "outputs": [
        {
          "output_type": "execute_result",
          "data": {
            "text/plain": [
              "'0, 1, 2, 3, 4, 5, 6, 7, 8, 9'"
            ],
            "application/vnd.google.colaboratory.intrinsic+json": {
              "type": "string"
            }
          },
          "metadata": {},
          "execution_count": 138
        }
      ]
    },
    {
      "cell_type": "code",
      "source": [
        "skills = ['Python' , 'SQL' , 'Excel']"
      ],
      "metadata": {
        "id": "HZSMUKXclRvx"
      },
      "execution_count": 139,
      "outputs": []
    },
    {
      "cell_type": "code",
      "source": [
        "type(skills)"
      ],
      "metadata": {
        "colab": {
          "base_uri": "https://localhost:8080/"
        },
        "id": "xDiIgdSDlVnk",
        "outputId": "47f7f6f0-4d3d-4d05-937b-02fcd54775c4"
      },
      "execution_count": 140,
      "outputs": [
        {
          "output_type": "execute_result",
          "data": {
            "text/plain": [
              "list"
            ]
          },
          "metadata": {},
          "execution_count": 140
        }
      ]
    },
    {
      "cell_type": "code",
      "source": [
        "\", \".join(skills)"
      ],
      "metadata": {
        "colab": {
          "base_uri": "https://localhost:8080/",
          "height": 36
        },
        "id": "Ls5YN35blWrK",
        "outputId": "3258b5ce-a7ca-4387-800b-eadd66b28a37"
      },
      "execution_count": 141,
      "outputs": [
        {
          "output_type": "execute_result",
          "data": {
            "text/plain": [
              "'Python, SQL, Excel'"
            ],
            "application/vnd.google.colaboratory.intrinsic+json": {
              "type": "string"
            }
          },
          "metadata": {},
          "execution_count": 141
        }
      ]
    },
    {
      "cell_type": "code",
      "source": [],
      "metadata": {
        "id": "who2bCPxlbcP"
      },
      "execution_count": null,
      "outputs": []
    },
    {
      "cell_type": "markdown",
      "source": [
        "# Operators"
      ],
      "metadata": {
        "id": "UGzRopqEml3o"
      }
    },
    {
      "cell_type": "code",
      "source": [
        "2 + 3.0"
      ],
      "metadata": {
        "colab": {
          "base_uri": "https://localhost:8080/"
        },
        "id": "s3ME3UkmmnJM",
        "outputId": "b7e9e0f7-c3cc-449e-df1e-8bf29020025b"
      },
      "execution_count": 142,
      "outputs": [
        {
          "output_type": "execute_result",
          "data": {
            "text/plain": [
              "5.0"
            ]
          },
          "metadata": {},
          "execution_count": 142
        }
      ]
    },
    {
      "cell_type": "code",
      "source": [
        "\"Come \" + \"va\" + \"?\""
      ],
      "metadata": {
        "colab": {
          "base_uri": "https://localhost:8080/",
          "height": 36
        },
        "id": "nOW5o02Bm3ug",
        "outputId": "42c1791d-e339-4fdb-ba62-10759c6a49cc"
      },
      "execution_count": 144,
      "outputs": [
        {
          "output_type": "execute_result",
          "data": {
            "text/plain": [
              "'Come va?'"
            ],
            "application/vnd.google.colaboratory.intrinsic+json": {
              "type": "string"
            }
          },
          "metadata": {},
          "execution_count": 144
        }
      ]
    },
    {
      "cell_type": "code",
      "source": [
        "\"Come \" + \"va\" + \"?\" * 10"
      ],
      "metadata": {
        "colab": {
          "base_uri": "https://localhost:8080/",
          "height": 36
        },
        "id": "kgNLsnF6m7DE",
        "outputId": "dfc550b2-4d69-4260-bd3e-136bd864b4dc"
      },
      "execution_count": 145,
      "outputs": [
        {
          "output_type": "execute_result",
          "data": {
            "text/plain": [
              "'Come va??????????'"
            ],
            "application/vnd.google.colaboratory.intrinsic+json": {
              "type": "string"
            }
          },
          "metadata": {},
          "execution_count": 145
        }
      ]
    },
    {
      "cell_type": "code",
      "source": [
        "(\"Come \" + \"va\" + \"? \") * 10"
      ],
      "metadata": {
        "colab": {
          "base_uri": "https://localhost:8080/",
          "height": 36
        },
        "id": "ZDtsrSjjm-A7",
        "outputId": "980a45b5-3b98-45c4-9f7c-b19de50a0d19"
      },
      "execution_count": 147,
      "outputs": [
        {
          "output_type": "execute_result",
          "data": {
            "text/plain": [
              "'Come va? Come va? Come va? Come va? Come va? Come va? Come va? Come va? Come va? Come va? '"
            ],
            "application/vnd.google.colaboratory.intrinsic+json": {
              "type": "string"
            }
          },
          "metadata": {},
          "execution_count": 147
        }
      ]
    },
    {
      "cell_type": "code",
      "source": [
        "3.0 - 2"
      ],
      "metadata": {
        "colab": {
          "base_uri": "https://localhost:8080/"
        },
        "id": "XcU-VzvWnCpH",
        "outputId": "a81a4359-a22c-4875-cbee-12900b7d170a"
      },
      "execution_count": 148,
      "outputs": [
        {
          "output_type": "execute_result",
          "data": {
            "text/plain": [
              "1.0"
            ]
          },
          "metadata": {},
          "execution_count": 148
        }
      ]
    },
    {
      "cell_type": "code",
      "source": [
        "\"come va\" - \"va\""
      ],
      "metadata": {
        "colab": {
          "base_uri": "https://localhost:8080/",
          "height": 141
        },
        "id": "w5i49vVKnFJ1",
        "outputId": "74fa858c-6dba-4938-bf47-64e26ea067b7"
      },
      "execution_count": 150,
      "outputs": [
        {
          "output_type": "error",
          "ename": "TypeError",
          "evalue": "unsupported operand type(s) for -: 'str' and 'str'",
          "traceback": [
            "\u001b[0;31m---------------------------------------------------------------------------\u001b[0m",
            "\u001b[0;31mTypeError\u001b[0m                                 Traceback (most recent call last)",
            "\u001b[0;32m/tmp/ipython-input-3521384904.py\u001b[0m in \u001b[0;36m<cell line: 0>\u001b[0;34m()\u001b[0m\n\u001b[0;32m----> 1\u001b[0;31m \u001b[0;34m\"come va\"\u001b[0m \u001b[0;34m-\u001b[0m \u001b[0;34m\"va\"\u001b[0m\u001b[0;34m\u001b[0m\u001b[0;34m\u001b[0m\u001b[0m\n\u001b[0m",
            "\u001b[0;31mTypeError\u001b[0m: unsupported operand type(s) for -: 'str' and 'str'"
          ]
        }
      ]
    },
    {
      "cell_type": "code",
      "source": [
        "four = 4\n",
        "four.__sub__(2)"
      ],
      "metadata": {
        "colab": {
          "base_uri": "https://localhost:8080/"
        },
        "id": "mWL9MYXvnGnX",
        "outputId": "00a3f7a2-1888-4ae5-f3dc-e6e2e3aaa8c6"
      },
      "execution_count": 151,
      "outputs": [
        {
          "output_type": "execute_result",
          "data": {
            "text/plain": [
              "2"
            ]
          },
          "metadata": {},
          "execution_count": 151
        }
      ]
    },
    {
      "cell_type": "code",
      "source": [
        "5 / 2"
      ],
      "metadata": {
        "colab": {
          "base_uri": "https://localhost:8080/"
        },
        "id": "l7GpBTWnno43",
        "outputId": "ab0a0b83-9b4f-470b-aece-9dbec2496f6d"
      },
      "execution_count": 153,
      "outputs": [
        {
          "output_type": "execute_result",
          "data": {
            "text/plain": [
              "2.5"
            ]
          },
          "metadata": {},
          "execution_count": 153
        }
      ]
    },
    {
      "cell_type": "code",
      "source": [
        "5 // 2 # per indicare quanti numeri ci vogliono per dividere 5 per il divisore"
      ],
      "metadata": {
        "colab": {
          "base_uri": "https://localhost:8080/"
        },
        "id": "b3gS-UU_nrr4",
        "outputId": "0e948a72-ce96-494c-f10d-e06ff7bac9bc"
      },
      "execution_count": 162,
      "outputs": [
        {
          "output_type": "execute_result",
          "data": {
            "text/plain": [
              "2"
            ]
          },
          "metadata": {},
          "execution_count": 162
        }
      ]
    },
    {
      "cell_type": "code",
      "source": [
        "5 % 2 # per indicare il resto"
      ],
      "metadata": {
        "colab": {
          "base_uri": "https://localhost:8080/"
        },
        "id": "jg8ttg9dnzV-",
        "outputId": "d68605ec-4b79-4fdf-bf0f-2e0f34ff9fd9"
      },
      "execution_count": 156,
      "outputs": [
        {
          "output_type": "execute_result",
          "data": {
            "text/plain": [
              "1"
            ]
          },
          "metadata": {},
          "execution_count": 156
        }
      ]
    },
    {
      "cell_type": "code",
      "source": [],
      "metadata": {
        "id": "FzirzUaOsynK"
      },
      "execution_count": null,
      "outputs": []
    },
    {
      "cell_type": "markdown",
      "source": [
        "### Arithmetic Operators\n",
        "\n",
        "Arithmetic operators are used with objects (mainly numeric ones) to perform math operations:\n",
        "\n",
        "| Operator \t| Name           \t| Example \t|\n",
        "|----------\t|----------------\t|---------\t|\n",
        "| +        \t| Addition       \t| x + y   \t|\n",
        "| -        \t| Subtraction    \t| x - y   \t|\n",
        "| *        \t| Multiplication \t| x * y   \t|\n",
        "| /        \t| Division       \t| x / y   \t|\n",
        "| %        \t| Modulus        \t| x % y   \t|\n",
        "| **       \t| Exponentiation \t| x ** y  \t|\n",
        "| //       \t| Floor division \t| x // y  \t|"
      ],
      "metadata": {
        "id": "raHSOb_VszF9"
      }
    },
    {
      "cell_type": "markdown",
      "source": [
        "#### Order of Operations\n",
        "\n",
        "1. **Parentheses**: Anything in parentheses is executed first\n",
        "2. **Exponents**: Operations involving exponents (including roots, indicated as fractional exponents)  \n",
        "3. **Multiplication and Division**: Processed from left to right\n",
        "4. **Addition and Subtraction**: Also processed from left to right\n"
      ],
      "metadata": {
        "id": "ZPdVkMW6oOb_"
      }
    },
    {
      "cell_type": "code",
      "source": [
        "min_salary = 20_000 # _ is ignored by the interpreter\n",
        "max_salary = 80_000\n",
        "\n"
      ],
      "metadata": {
        "id": "cxmgzCrxoOqQ"
      },
      "execution_count": 164,
      "outputs": []
    },
    {
      "cell_type": "code",
      "source": [
        "avg_salary = (min_salary + max_salary) / 2"
      ],
      "metadata": {
        "id": "ntn3ka9FoRBp"
      },
      "execution_count": 166,
      "outputs": []
    },
    {
      "cell_type": "code",
      "source": [
        "avg_salary"
      ],
      "metadata": {
        "colab": {
          "base_uri": "https://localhost:8080/"
        },
        "id": "NcMwuiwCskCq",
        "outputId": "e80c2f3f-7dee-412e-d62d-6303201dc447"
      },
      "execution_count": 167,
      "outputs": [
        {
          "output_type": "execute_result",
          "data": {
            "text/plain": [
              "50000.0"
            ]
          },
          "metadata": {},
          "execution_count": 167
        }
      ]
    },
    {
      "cell_type": "markdown",
      "source": [
        "### Assignment Operators\n",
        "\n",
        "Assignment operators are used to assign values to variables.\n",
        "\n",
        "| Operator | Name                | Example |\n",
        "|----------|---------------------|---------|\n",
        "| =        | Assign              | x = y   |\n",
        "| +=       | Add and assign      | x += y  |\n",
        "| -=       | Subtract and assign | x -= y  |\n",
        "| *=       | Multiply and assign | x *= y  |\n",
        "| /=       | Divide and assign   | x /= y  |\n",
        "| %=       | Modulus and assign  | x %= y  |\n",
        "| **=      | Exponent and assign | x **= y |\n",
        "| //=      | Floor divide and assign | x //= y  |\n"
      ],
      "metadata": {
        "id": "aKMWmAc2s4Zw"
      }
    },
    {
      "cell_type": "code",
      "source": [
        "cliente_1 = \"Kelly\"\n",
        "cliente_2 = \"Luca\""
      ],
      "metadata": {
        "id": "2qMLgvwPsmW-"
      },
      "execution_count": 168,
      "outputs": []
    },
    {
      "cell_type": "code",
      "source": [
        "temp_var = cliente_1"
      ],
      "metadata": {
        "id": "lz_Wwgb1s9N5"
      },
      "execution_count": 169,
      "outputs": []
    },
    {
      "cell_type": "code",
      "source": [
        "cliente_1 = cliente_2\n",
        "cliente_2 = temp_var\n"
      ],
      "metadata": {
        "id": "BHk2LzUks-qa"
      },
      "execution_count": 170,
      "outputs": []
    },
    {
      "cell_type": "code",
      "source": [
        "cliente_1,cliente_2"
      ],
      "metadata": {
        "colab": {
          "base_uri": "https://localhost:8080/"
        },
        "id": "FYK-z4qNtKOk",
        "outputId": "7a4746eb-4245-4c7d-e744-b423ab8d3e10"
      },
      "execution_count": 171,
      "outputs": [
        {
          "output_type": "execute_result",
          "data": {
            "text/plain": [
              "('Luca', 'Kelly')"
            ]
          },
          "metadata": {},
          "execution_count": 171
        }
      ]
    },
    {
      "cell_type": "code",
      "source": [
        "cliente_1, cliente_2 = cliente_2, cliente_1"
      ],
      "metadata": {
        "id": "OQO8RP4EtLWk"
      },
      "execution_count": 172,
      "outputs": []
    },
    {
      "cell_type": "code",
      "source": [
        "cliente_1 , cliente_2"
      ],
      "metadata": {
        "colab": {
          "base_uri": "https://localhost:8080/"
        },
        "id": "wgzSfut_tTB0",
        "outputId": "febd3bc5-5084-445b-b335-f970fa5034c0"
      },
      "execution_count": 173,
      "outputs": [
        {
          "output_type": "execute_result",
          "data": {
            "text/plain": [
              "('Kelly', 'Luca')"
            ]
          },
          "metadata": {},
          "execution_count": 173
        }
      ]
    },
    {
      "cell_type": "code",
      "source": [
        "x = 1"
      ],
      "metadata": {
        "id": "Rw_2Z3AytUhW"
      },
      "execution_count": 174,
      "outputs": []
    },
    {
      "cell_type": "code",
      "source": [
        "x = x + 1"
      ],
      "metadata": {
        "id": "f03J7I2ftWP1"
      },
      "execution_count": 175,
      "outputs": []
    },
    {
      "cell_type": "code",
      "source": [
        "x"
      ],
      "metadata": {
        "colab": {
          "base_uri": "https://localhost:8080/"
        },
        "id": "1lwkJft9tZH1",
        "outputId": "2df63ada-2ca7-46da-8ab4-2e05dd94adca"
      },
      "execution_count": 176,
      "outputs": [
        {
          "output_type": "execute_result",
          "data": {
            "text/plain": [
              "2"
            ]
          },
          "metadata": {},
          "execution_count": 176
        }
      ]
    },
    {
      "cell_type": "code",
      "source": [
        "x = 1\n",
        "x += 1 # è uguale a x = x + 1"
      ],
      "metadata": {
        "id": "ri9vrhadtZsm"
      },
      "execution_count": 178,
      "outputs": []
    },
    {
      "cell_type": "code",
      "source": [
        "x"
      ],
      "metadata": {
        "colab": {
          "base_uri": "https://localhost:8080/"
        },
        "id": "pFBQNEhztegp",
        "outputId": "29db08a6-390f-4a26-ae73-554fe7060e24"
      },
      "execution_count": 179,
      "outputs": [
        {
          "output_type": "execute_result",
          "data": {
            "text/plain": [
              "2"
            ]
          },
          "metadata": {},
          "execution_count": 179
        }
      ]
    },
    {
      "cell_type": "code",
      "source": [
        "x = 2"
      ],
      "metadata": {
        "id": "6I9wB6oVtiHV"
      },
      "execution_count": 183,
      "outputs": []
    },
    {
      "cell_type": "code",
      "source": [
        "x *= 2"
      ],
      "metadata": {
        "id": "loRCZqiptidl"
      },
      "execution_count": 184,
      "outputs": []
    },
    {
      "cell_type": "code",
      "source": [
        "x"
      ],
      "metadata": {
        "colab": {
          "base_uri": "https://localhost:8080/"
        },
        "id": "yOK1FBhDtkZC",
        "outputId": "14de11c5-2dbc-4303-cde9-24077eaf5353"
      },
      "execution_count": 185,
      "outputs": [
        {
          "output_type": "execute_result",
          "data": {
            "text/plain": [
              "4"
            ]
          },
          "metadata": {},
          "execution_count": 185
        }
      ]
    },
    {
      "cell_type": "markdown",
      "source": [
        "### Comparison Operators\n",
        "\n",
        "Comparison operators compare two values and determine the relation between them.\n",
        "\n",
        "| Operator | Name                  | Example |\n",
        "|----------|-----------------------|---------|\n",
        "| ==       | Equal to              | x == y  |\n",
        "| !=       | Not equal to          | x != y  |\n",
        "| >        | Greater than          | x > y   |\n",
        "| <        | Less than             | x < y   |\n",
        "| >=       | Greater than or equal | x >= y  |\n",
        "| <=       | Less than or equal    | x <= y  |\n"
      ],
      "metadata": {
        "id": "RAR75WfGts7V"
      }
    },
    {
      "cell_type": "code",
      "source": [
        "salary_kelly = 60000\n",
        "salary_luke = 40000"
      ],
      "metadata": {
        "id": "FJYHKdNpttH8"
      },
      "execution_count": 186,
      "outputs": []
    },
    {
      "cell_type": "code",
      "source": [
        "salary_kelly == salary_luke"
      ],
      "metadata": {
        "colab": {
          "base_uri": "https://localhost:8080/"
        },
        "id": "cIlWOq1ltx8t",
        "outputId": "cc7287b6-615b-4914-8945-e940e91c3ed5"
      },
      "execution_count": 187,
      "outputs": [
        {
          "output_type": "execute_result",
          "data": {
            "text/plain": [
              "False"
            ]
          },
          "metadata": {},
          "execution_count": 187
        }
      ]
    },
    {
      "cell_type": "code",
      "source": [
        "1 == 1"
      ],
      "metadata": {
        "colab": {
          "base_uri": "https://localhost:8080/"
        },
        "id": "s-LVJeA6t1u3",
        "outputId": "fbfcec7c-24f6-4716-cd31-487883d83a23"
      },
      "execution_count": 188,
      "outputs": [
        {
          "output_type": "execute_result",
          "data": {
            "text/plain": [
              "True"
            ]
          },
          "metadata": {},
          "execution_count": 188
        }
      ]
    },
    {
      "cell_type": "code",
      "source": [
        "if (salary_kelly > salary_luke):\n",
        "    print(\"Kelly is paid more than Luke\")"
      ],
      "metadata": {
        "colab": {
          "base_uri": "https://localhost:8080/"
        },
        "id": "0WLrpEUJt3Mq",
        "outputId": "13584d51-4019-4e02-e2cd-edfda0a8a060"
      },
      "execution_count": 189,
      "outputs": [
        {
          "output_type": "stream",
          "name": "stdout",
          "text": [
            "Kelly is paid more than Luke\n"
          ]
        }
      ]
    },
    {
      "cell_type": "markdown",
      "source": [
        "# IF, ELIF, ELSE"
      ],
      "metadata": {
        "id": "B4YaHj-_ubsX"
      }
    },
    {
      "cell_type": "markdown",
      "source": [
        "## Overview\n",
        "\n",
        "### Notes\n",
        "\n",
        "`if`, `elif`, and `else` are conditional statements that control the flow of execution based on whether a condition is `True` or `False`.\n",
        "\n",
        "| Part       | Purpose                           | Condition Evaluated             | Action if True                 |\n",
        "|------------|-----------------------------------|---------------------------------|--------------------------------|\n",
        "| `if`       | First condition check             | First condition to be evaluated | Executes block if condition is true |\n",
        "| `elif`     | Subsequent condition check        | Next condition, if `if` is false| Executes block if this condition is true |\n",
        "| `else`     | Fallback if no conditions are met | None | Executes block if all above conditions are false |\n"
      ],
      "metadata": {
        "id": "uPAyyoxruZyC"
      }
    },
    {
      "cell_type": "code",
      "source": [
        "if True:\n",
        "    print(\"E bbbbbravo\")"
      ],
      "metadata": {
        "colab": {
          "base_uri": "https://localhost:8080/"
        },
        "id": "nQp_-yJAuDgS",
        "outputId": "05784fa0-70e7-460f-b3db-6f72a30d1725"
      },
      "execution_count": 191,
      "outputs": [
        {
          "output_type": "stream",
          "name": "stdout",
          "text": [
            "E bbbbbravo\n"
          ]
        }
      ]
    },
    {
      "cell_type": "code",
      "source": [
        "# Skill lavoratore\n",
        "skill = 'SQL'\n",
        "\n",
        "skill_lavoratore = 'SQL'"
      ],
      "metadata": {
        "id": "Y7aNqB4ouvEt"
      },
      "execution_count": 192,
      "outputs": []
    },
    {
      "cell_type": "code",
      "source": [
        "if skill == skill_lavoratore:\n",
        "    print(\"It's a match booooy!\")"
      ],
      "metadata": {
        "colab": {
          "base_uri": "https://localhost:8080/"
        },
        "id": "o7O3nbaqvDJz",
        "outputId": "bdde2745-17dc-428a-bf23-b9afe7e229a3"
      },
      "execution_count": 194,
      "outputs": [
        {
          "output_type": "stream",
          "name": "stdout",
          "text": [
            "It's a match booooy!\n"
          ]
        }
      ]
    },
    {
      "cell_type": "code",
      "source": [
        "years_experience = 6\n",
        "skill = 'SQL'\n",
        "skill_lavoratore = 'Python'\n",
        "\n",
        "if skill == skill_lavoratore:\n",
        "    print(\"It's a match booooy!\")\n",
        "elif years_experience >= 5:\n",
        "    print('Abbastanza esperienza; No SQL')"
      ],
      "metadata": {
        "colab": {
          "base_uri": "https://localhost:8080/"
        },
        "id": "DzUpGm3dvJCv",
        "outputId": "915605fc-84db-487c-e3df-d8ef6e5ea6cf"
      },
      "execution_count": 197,
      "outputs": [
        {
          "output_type": "stream",
          "name": "stdout",
          "text": [
            "Abbastanza esperienza; No SQL\n"
          ]
        }
      ]
    },
    {
      "cell_type": "code",
      "source": [
        "years_experience = 2\n",
        "skill = 'SQL'\n",
        "skill_lavoratore = 'Python'\n",
        "\n",
        "if skill == skill_lavoratore:\n",
        "    print(\"It's a match booooy!\")\n",
        "elif years_experience >= 5:\n",
        "    print('Abbastanza esperienza; No SQL')\n",
        "else:\n",
        "    print(\"Nessuna esperienza, nessuna skill\")"
      ],
      "metadata": {
        "colab": {
          "base_uri": "https://localhost:8080/"
        },
        "id": "qhQH2lOzvncS",
        "outputId": "696128b0-4c23-4d25-86fd-4a9e115a6882"
      },
      "execution_count": 199,
      "outputs": [
        {
          "output_type": "stream",
          "name": "stdout",
          "text": [
            "Nessuna esperienza, nessuna skill\n"
          ]
        }
      ]
    },
    {
      "cell_type": "code",
      "source": [
        "years_experience = 3\n",
        "skill = 'SQL'\n",
        "skill_lavoratore = 'Python'\n",
        "\n",
        "if skill == skill_lavoratore:\n",
        "    print(\"It's a match booooy!\")\n",
        "elif years_experience >= 5:\n",
        "    print('Abbastanza esperienza; No SQL')\n",
        "elif skill_lavoratore == 'Python':\n",
        "    print(\"Impara sql zi\")\n",
        "\n",
        "else:\n",
        "    print(\"Nessuna esperienza, nessuna skill\")"
      ],
      "metadata": {
        "colab": {
          "base_uri": "https://localhost:8080/"
        },
        "id": "ZKVBa8wJv-iI",
        "outputId": "57f26c48-ca2e-4b9b-e0a2-0aac692bf585"
      },
      "execution_count": 205,
      "outputs": [
        {
          "output_type": "stream",
          "name": "stdout",
          "text": [
            "Impara sql zi\n"
          ]
        }
      ]
    },
    {
      "cell_type": "code",
      "source": [
        "years_experience = 3\n",
        "skill = 'SQL'\n",
        "skill_lavoratore = 'Python'\n",
        "\n",
        "if skill == skill_lavoratore:\n",
        "    print(\"It's a match booooy!\")\n",
        "elif years_experience >= 5:\n",
        "    print('Abbastanza esperienza; No SQL')\n",
        "elif skill_lavoratore == 'Python':\n",
        "    pass\n",
        "\n",
        "else:\n",
        "    print(\"Nessuna esperienza, nessuna skill\")"
      ],
      "metadata": {
        "id": "TOruCSWwwGeR"
      },
      "execution_count": 206,
      "outputs": []
    },
    {
      "cell_type": "code",
      "source": [
        "# In Python, la parola chiave pass viene usata come segnaposto quando ti serve una struttura sintattica valida ma non vuoi ancora scrivere del codice al suo interno.\n",
        "\n",
        "#📌 In breve:\n",
        "\n",
        "#pass significa: \"non fare nulla, ma il codice deve essere lì\"."
      ],
      "metadata": {
        "id": "TrkZlAKGwqS7"
      },
      "execution_count": 207,
      "outputs": []
    },
    {
      "cell_type": "code",
      "source": [],
      "metadata": {
        "id": "X5QfWjayw6xM"
      },
      "execution_count": null,
      "outputs": []
    }
  ]
}